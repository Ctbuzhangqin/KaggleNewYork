{
 "cells": [
  {
   "cell_type": "code",
   "execution_count": 23,
   "id": "c24421cc-f320-4e7a-b7a0-92e0554b3a32",
   "metadata": {
    "execution": {
     "iopub.execute_input": "2022-08-22T12:43:14.743942Z",
     "iopub.status.busy": "2022-08-22T12:43:14.743140Z",
     "iopub.status.idle": "2022-08-22T12:43:14.750032Z",
     "shell.execute_reply": "2022-08-22T12:43:14.749120Z",
     "shell.execute_reply.started": "2022-08-22T12:43:14.743893Z"
    },
    "scrolled": true,
    "tags": []
   },
   "outputs": [],
   "source": [
    "import numpy as np \n",
    "import pandas as pd\n",
    "import os\n",
    "import seaborn as sns\n",
    "import math\n",
    "import matplotlib.pyplot as plt\n",
    "from lightgbm import LGBMRegressor\n",
    "from sklearn.model_selection import train_test_split\n",
    "from sklearn.metrics import r2_score\n",
    "from sklearn.metrics import mean_squared_error\n",
    "\n",
    "from sklearn.metrics import mean_absolute_error\n",
    "\n"
   ]
  },
  {
   "cell_type": "code",
   "execution_count": 24,
   "id": "a803129e-8d3e-4562-a6d8-c9d2f7608a75",
   "metadata": {
    "execution": {
     "iopub.execute_input": "2022-08-22T12:43:16.617602Z",
     "iopub.status.busy": "2022-08-22T12:43:16.616780Z",
     "iopub.status.idle": "2022-08-22T12:43:21.682136Z",
     "shell.execute_reply": "2022-08-22T12:43:21.681246Z",
     "shell.execute_reply.started": "2022-08-22T12:43:16.617568Z"
    },
    "scrolled": true,
    "tags": []
   },
   "outputs": [
    {
     "name": "stdout",
     "output_type": "stream",
     "text": [
      "<class 'pandas.core.frame.DataFrame'>\n",
      "RangeIndex: 1458644 entries, 0 to 1458643\n",
      "Data columns (total 11 columns):\n",
      " #   Column              Non-Null Count    Dtype  \n",
      "---  ------              --------------    -----  \n",
      " 0   id                  1458644 non-null  object \n",
      " 1   vendor_id           1458644 non-null  int64  \n",
      " 2   pickup_datetime     1458644 non-null  object \n",
      " 3   dropoff_datetime    1458644 non-null  object \n",
      " 4   passenger_count     1458644 non-null  int64  \n",
      " 5   pickup_longitude    1458644 non-null  float64\n",
      " 6   pickup_latitude     1458644 non-null  float64\n",
      " 7   dropoff_longitude   1458644 non-null  float64\n",
      " 8   dropoff_latitude    1458644 non-null  float64\n",
      " 9   store_and_fwd_flag  1458644 non-null  object \n",
      " 10  trip_duration       1458644 non-null  int64  \n",
      "dtypes: float64(4), int64(3), object(4)\n",
      "memory usage: 122.4+ MB\n"
     ]
    },
    {
     "data": {
      "text/html": [
       "<div>\n",
       "<style scoped>\n",
       "    .dataframe tbody tr th:only-of-type {\n",
       "        vertical-align: middle;\n",
       "    }\n",
       "\n",
       "    .dataframe tbody tr th {\n",
       "        vertical-align: top;\n",
       "    }\n",
       "\n",
       "    .dataframe thead th {\n",
       "        text-align: right;\n",
       "    }\n",
       "</style>\n",
       "<table border=\"1\" class=\"dataframe\">\n",
       "  <thead>\n",
       "    <tr style=\"text-align: right;\">\n",
       "      <th></th>\n",
       "      <th>id</th>\n",
       "      <th>vendor_id</th>\n",
       "      <th>pickup_datetime</th>\n",
       "      <th>dropoff_datetime</th>\n",
       "      <th>passenger_count</th>\n",
       "      <th>pickup_longitude</th>\n",
       "      <th>pickup_latitude</th>\n",
       "      <th>dropoff_longitude</th>\n",
       "      <th>dropoff_latitude</th>\n",
       "      <th>store_and_fwd_flag</th>\n",
       "      <th>trip_duration</th>\n",
       "    </tr>\n",
       "  </thead>\n",
       "  <tbody>\n",
       "    <tr>\n",
       "      <th>0</th>\n",
       "      <td>id2875421</td>\n",
       "      <td>2</td>\n",
       "      <td>2016-03-14 17:24:55</td>\n",
       "      <td>2016-03-14 17:32:30</td>\n",
       "      <td>1</td>\n",
       "      <td>-73.982155</td>\n",
       "      <td>40.767937</td>\n",
       "      <td>-73.964630</td>\n",
       "      <td>40.765602</td>\n",
       "      <td>N</td>\n",
       "      <td>455</td>\n",
       "    </tr>\n",
       "    <tr>\n",
       "      <th>1</th>\n",
       "      <td>id2377394</td>\n",
       "      <td>1</td>\n",
       "      <td>2016-06-12 00:43:35</td>\n",
       "      <td>2016-06-12 00:54:38</td>\n",
       "      <td>1</td>\n",
       "      <td>-73.980415</td>\n",
       "      <td>40.738564</td>\n",
       "      <td>-73.999481</td>\n",
       "      <td>40.731152</td>\n",
       "      <td>N</td>\n",
       "      <td>663</td>\n",
       "    </tr>\n",
       "    <tr>\n",
       "      <th>2</th>\n",
       "      <td>id3858529</td>\n",
       "      <td>2</td>\n",
       "      <td>2016-01-19 11:35:24</td>\n",
       "      <td>2016-01-19 12:10:48</td>\n",
       "      <td>1</td>\n",
       "      <td>-73.979027</td>\n",
       "      <td>40.763939</td>\n",
       "      <td>-74.005333</td>\n",
       "      <td>40.710087</td>\n",
       "      <td>N</td>\n",
       "      <td>2124</td>\n",
       "    </tr>\n",
       "    <tr>\n",
       "      <th>3</th>\n",
       "      <td>id3504673</td>\n",
       "      <td>2</td>\n",
       "      <td>2016-04-06 19:32:31</td>\n",
       "      <td>2016-04-06 19:39:40</td>\n",
       "      <td>1</td>\n",
       "      <td>-74.010040</td>\n",
       "      <td>40.719971</td>\n",
       "      <td>-74.012268</td>\n",
       "      <td>40.706718</td>\n",
       "      <td>N</td>\n",
       "      <td>429</td>\n",
       "    </tr>\n",
       "    <tr>\n",
       "      <th>4</th>\n",
       "      <td>id2181028</td>\n",
       "      <td>2</td>\n",
       "      <td>2016-03-26 13:30:55</td>\n",
       "      <td>2016-03-26 13:38:10</td>\n",
       "      <td>1</td>\n",
       "      <td>-73.973053</td>\n",
       "      <td>40.793209</td>\n",
       "      <td>-73.972923</td>\n",
       "      <td>40.782520</td>\n",
       "      <td>N</td>\n",
       "      <td>435</td>\n",
       "    </tr>\n",
       "    <tr>\n",
       "      <th>...</th>\n",
       "      <td>...</td>\n",
       "      <td>...</td>\n",
       "      <td>...</td>\n",
       "      <td>...</td>\n",
       "      <td>...</td>\n",
       "      <td>...</td>\n",
       "      <td>...</td>\n",
       "      <td>...</td>\n",
       "      <td>...</td>\n",
       "      <td>...</td>\n",
       "      <td>...</td>\n",
       "    </tr>\n",
       "    <tr>\n",
       "      <th>1458639</th>\n",
       "      <td>id2376096</td>\n",
       "      <td>2</td>\n",
       "      <td>2016-04-08 13:31:04</td>\n",
       "      <td>2016-04-08 13:44:02</td>\n",
       "      <td>4</td>\n",
       "      <td>-73.982201</td>\n",
       "      <td>40.745522</td>\n",
       "      <td>-73.994911</td>\n",
       "      <td>40.740170</td>\n",
       "      <td>N</td>\n",
       "      <td>778</td>\n",
       "    </tr>\n",
       "    <tr>\n",
       "      <th>1458640</th>\n",
       "      <td>id1049543</td>\n",
       "      <td>1</td>\n",
       "      <td>2016-01-10 07:35:15</td>\n",
       "      <td>2016-01-10 07:46:10</td>\n",
       "      <td>1</td>\n",
       "      <td>-74.000946</td>\n",
       "      <td>40.747379</td>\n",
       "      <td>-73.970184</td>\n",
       "      <td>40.796547</td>\n",
       "      <td>N</td>\n",
       "      <td>655</td>\n",
       "    </tr>\n",
       "    <tr>\n",
       "      <th>1458641</th>\n",
       "      <td>id2304944</td>\n",
       "      <td>2</td>\n",
       "      <td>2016-04-22 06:57:41</td>\n",
       "      <td>2016-04-22 07:10:25</td>\n",
       "      <td>1</td>\n",
       "      <td>-73.959129</td>\n",
       "      <td>40.768799</td>\n",
       "      <td>-74.004433</td>\n",
       "      <td>40.707371</td>\n",
       "      <td>N</td>\n",
       "      <td>764</td>\n",
       "    </tr>\n",
       "    <tr>\n",
       "      <th>1458642</th>\n",
       "      <td>id2714485</td>\n",
       "      <td>1</td>\n",
       "      <td>2016-01-05 15:56:26</td>\n",
       "      <td>2016-01-05 16:02:39</td>\n",
       "      <td>1</td>\n",
       "      <td>-73.982079</td>\n",
       "      <td>40.749062</td>\n",
       "      <td>-73.974632</td>\n",
       "      <td>40.757107</td>\n",
       "      <td>N</td>\n",
       "      <td>373</td>\n",
       "    </tr>\n",
       "    <tr>\n",
       "      <th>1458643</th>\n",
       "      <td>id1209952</td>\n",
       "      <td>1</td>\n",
       "      <td>2016-04-05 14:44:25</td>\n",
       "      <td>2016-04-05 14:47:43</td>\n",
       "      <td>1</td>\n",
       "      <td>-73.979538</td>\n",
       "      <td>40.781750</td>\n",
       "      <td>-73.972809</td>\n",
       "      <td>40.790585</td>\n",
       "      <td>N</td>\n",
       "      <td>198</td>\n",
       "    </tr>\n",
       "  </tbody>\n",
       "</table>\n",
       "<p>1458644 rows × 11 columns</p>\n",
       "</div>"
      ],
      "text/plain": [
       "                id  vendor_id      pickup_datetime     dropoff_datetime  \\\n",
       "0        id2875421          2  2016-03-14 17:24:55  2016-03-14 17:32:30   \n",
       "1        id2377394          1  2016-06-12 00:43:35  2016-06-12 00:54:38   \n",
       "2        id3858529          2  2016-01-19 11:35:24  2016-01-19 12:10:48   \n",
       "3        id3504673          2  2016-04-06 19:32:31  2016-04-06 19:39:40   \n",
       "4        id2181028          2  2016-03-26 13:30:55  2016-03-26 13:38:10   \n",
       "...            ...        ...                  ...                  ...   \n",
       "1458639  id2376096          2  2016-04-08 13:31:04  2016-04-08 13:44:02   \n",
       "1458640  id1049543          1  2016-01-10 07:35:15  2016-01-10 07:46:10   \n",
       "1458641  id2304944          2  2016-04-22 06:57:41  2016-04-22 07:10:25   \n",
       "1458642  id2714485          1  2016-01-05 15:56:26  2016-01-05 16:02:39   \n",
       "1458643  id1209952          1  2016-04-05 14:44:25  2016-04-05 14:47:43   \n",
       "\n",
       "         passenger_count  pickup_longitude  pickup_latitude  \\\n",
       "0                      1        -73.982155        40.767937   \n",
       "1                      1        -73.980415        40.738564   \n",
       "2                      1        -73.979027        40.763939   \n",
       "3                      1        -74.010040        40.719971   \n",
       "4                      1        -73.973053        40.793209   \n",
       "...                  ...               ...              ...   \n",
       "1458639                4        -73.982201        40.745522   \n",
       "1458640                1        -74.000946        40.747379   \n",
       "1458641                1        -73.959129        40.768799   \n",
       "1458642                1        -73.982079        40.749062   \n",
       "1458643                1        -73.979538        40.781750   \n",
       "\n",
       "         dropoff_longitude  dropoff_latitude store_and_fwd_flag  trip_duration  \n",
       "0               -73.964630         40.765602                  N            455  \n",
       "1               -73.999481         40.731152                  N            663  \n",
       "2               -74.005333         40.710087                  N           2124  \n",
       "3               -74.012268         40.706718                  N            429  \n",
       "4               -73.972923         40.782520                  N            435  \n",
       "...                    ...               ...                ...            ...  \n",
       "1458639         -73.994911         40.740170                  N            778  \n",
       "1458640         -73.970184         40.796547                  N            655  \n",
       "1458641         -74.004433         40.707371                  N            764  \n",
       "1458642         -73.974632         40.757107                  N            373  \n",
       "1458643         -73.972809         40.790585                  N            198  \n",
       "\n",
       "[1458644 rows x 11 columns]"
      ]
     },
     "execution_count": 24,
     "metadata": {},
     "output_type": "execute_result"
    }
   ],
   "source": [
    "df_train=pd.read_csv('train.zip')\n",
    "df_train.info()\n",
    "df_train"
   ]
  },
  {
   "cell_type": "code",
   "execution_count": 25,
   "id": "bd61ecc8-0ced-42a5-849f-fe39a8d5f81e",
   "metadata": {
    "execution": {
     "iopub.execute_input": "2022-08-22T12:43:24.917513Z",
     "iopub.status.busy": "2022-08-22T12:43:24.916503Z",
     "iopub.status.idle": "2022-08-22T12:43:24.962555Z",
     "shell.execute_reply": "2022-08-22T12:43:24.961499Z",
     "shell.execute_reply.started": "2022-08-22T12:43:24.917482Z"
    },
    "scrolled": true,
    "tags": []
   },
   "outputs": [
    {
     "data": {
      "text/html": [
       "<div>\n",
       "<style scoped>\n",
       "    .dataframe tbody tr th:only-of-type {\n",
       "        vertical-align: middle;\n",
       "    }\n",
       "\n",
       "    .dataframe tbody tr th {\n",
       "        vertical-align: top;\n",
       "    }\n",
       "\n",
       "    .dataframe thead th {\n",
       "        text-align: right;\n",
       "    }\n",
       "</style>\n",
       "<table border=\"1\" class=\"dataframe\">\n",
       "  <thead>\n",
       "    <tr style=\"text-align: right;\">\n",
       "      <th></th>\n",
       "      <th>id</th>\n",
       "      <th>vendor_id</th>\n",
       "      <th>pickup_datetime</th>\n",
       "      <th>dropoff_datetime</th>\n",
       "      <th>passenger_count</th>\n",
       "      <th>pickup_longitude</th>\n",
       "      <th>pickup_latitude</th>\n",
       "      <th>dropoff_longitude</th>\n",
       "      <th>dropoff_latitude</th>\n",
       "      <th>store_and_fwd_flag</th>\n",
       "      <th>trip_duration</th>\n",
       "    </tr>\n",
       "  </thead>\n",
       "  <tbody>\n",
       "    <tr>\n",
       "      <th>0</th>\n",
       "      <td>id2875421</td>\n",
       "      <td>2</td>\n",
       "      <td>2016-03-14 17:24:55</td>\n",
       "      <td>2016-03-14 17:32:30</td>\n",
       "      <td>1</td>\n",
       "      <td>-73.982155</td>\n",
       "      <td>40.767937</td>\n",
       "      <td>-73.964630</td>\n",
       "      <td>40.765602</td>\n",
       "      <td>N</td>\n",
       "      <td>455</td>\n",
       "    </tr>\n",
       "    <tr>\n",
       "      <th>1</th>\n",
       "      <td>id2377394</td>\n",
       "      <td>1</td>\n",
       "      <td>2016-06-12 00:43:35</td>\n",
       "      <td>2016-06-12 00:54:38</td>\n",
       "      <td>1</td>\n",
       "      <td>-73.980415</td>\n",
       "      <td>40.738564</td>\n",
       "      <td>-73.999481</td>\n",
       "      <td>40.731152</td>\n",
       "      <td>N</td>\n",
       "      <td>663</td>\n",
       "    </tr>\n",
       "    <tr>\n",
       "      <th>2</th>\n",
       "      <td>id3858529</td>\n",
       "      <td>2</td>\n",
       "      <td>2016-01-19 11:35:24</td>\n",
       "      <td>2016-01-19 12:10:48</td>\n",
       "      <td>1</td>\n",
       "      <td>-73.979027</td>\n",
       "      <td>40.763939</td>\n",
       "      <td>-74.005333</td>\n",
       "      <td>40.710087</td>\n",
       "      <td>N</td>\n",
       "      <td>2124</td>\n",
       "    </tr>\n",
       "    <tr>\n",
       "      <th>3</th>\n",
       "      <td>id3504673</td>\n",
       "      <td>2</td>\n",
       "      <td>2016-04-06 19:32:31</td>\n",
       "      <td>2016-04-06 19:39:40</td>\n",
       "      <td>1</td>\n",
       "      <td>-74.010040</td>\n",
       "      <td>40.719971</td>\n",
       "      <td>-74.012268</td>\n",
       "      <td>40.706718</td>\n",
       "      <td>N</td>\n",
       "      <td>429</td>\n",
       "    </tr>\n",
       "    <tr>\n",
       "      <th>4</th>\n",
       "      <td>id2181028</td>\n",
       "      <td>2</td>\n",
       "      <td>2016-03-26 13:30:55</td>\n",
       "      <td>2016-03-26 13:38:10</td>\n",
       "      <td>1</td>\n",
       "      <td>-73.973053</td>\n",
       "      <td>40.793209</td>\n",
       "      <td>-73.972923</td>\n",
       "      <td>40.782520</td>\n",
       "      <td>N</td>\n",
       "      <td>435</td>\n",
       "    </tr>\n",
       "    <tr>\n",
       "      <th>...</th>\n",
       "      <td>...</td>\n",
       "      <td>...</td>\n",
       "      <td>...</td>\n",
       "      <td>...</td>\n",
       "      <td>...</td>\n",
       "      <td>...</td>\n",
       "      <td>...</td>\n",
       "      <td>...</td>\n",
       "      <td>...</td>\n",
       "      <td>...</td>\n",
       "      <td>...</td>\n",
       "    </tr>\n",
       "    <tr>\n",
       "      <th>1458639</th>\n",
       "      <td>id2376096</td>\n",
       "      <td>2</td>\n",
       "      <td>2016-04-08 13:31:04</td>\n",
       "      <td>2016-04-08 13:44:02</td>\n",
       "      <td>4</td>\n",
       "      <td>-73.982201</td>\n",
       "      <td>40.745522</td>\n",
       "      <td>-73.994911</td>\n",
       "      <td>40.740170</td>\n",
       "      <td>N</td>\n",
       "      <td>778</td>\n",
       "    </tr>\n",
       "    <tr>\n",
       "      <th>1458640</th>\n",
       "      <td>id1049543</td>\n",
       "      <td>1</td>\n",
       "      <td>2016-01-10 07:35:15</td>\n",
       "      <td>2016-01-10 07:46:10</td>\n",
       "      <td>1</td>\n",
       "      <td>-74.000946</td>\n",
       "      <td>40.747379</td>\n",
       "      <td>-73.970184</td>\n",
       "      <td>40.796547</td>\n",
       "      <td>N</td>\n",
       "      <td>655</td>\n",
       "    </tr>\n",
       "    <tr>\n",
       "      <th>1458641</th>\n",
       "      <td>id2304944</td>\n",
       "      <td>2</td>\n",
       "      <td>2016-04-22 06:57:41</td>\n",
       "      <td>2016-04-22 07:10:25</td>\n",
       "      <td>1</td>\n",
       "      <td>-73.959129</td>\n",
       "      <td>40.768799</td>\n",
       "      <td>-74.004433</td>\n",
       "      <td>40.707371</td>\n",
       "      <td>N</td>\n",
       "      <td>764</td>\n",
       "    </tr>\n",
       "    <tr>\n",
       "      <th>1458642</th>\n",
       "      <td>id2714485</td>\n",
       "      <td>1</td>\n",
       "      <td>2016-01-05 15:56:26</td>\n",
       "      <td>2016-01-05 16:02:39</td>\n",
       "      <td>1</td>\n",
       "      <td>-73.982079</td>\n",
       "      <td>40.749062</td>\n",
       "      <td>-73.974632</td>\n",
       "      <td>40.757107</td>\n",
       "      <td>N</td>\n",
       "      <td>373</td>\n",
       "    </tr>\n",
       "    <tr>\n",
       "      <th>1458643</th>\n",
       "      <td>id1209952</td>\n",
       "      <td>1</td>\n",
       "      <td>2016-04-05 14:44:25</td>\n",
       "      <td>2016-04-05 14:47:43</td>\n",
       "      <td>1</td>\n",
       "      <td>-73.979538</td>\n",
       "      <td>40.781750</td>\n",
       "      <td>-73.972809</td>\n",
       "      <td>40.790585</td>\n",
       "      <td>N</td>\n",
       "      <td>198</td>\n",
       "    </tr>\n",
       "  </tbody>\n",
       "</table>\n",
       "<p>1458644 rows × 11 columns</p>\n",
       "</div>"
      ],
      "text/plain": [
       "                id  vendor_id      pickup_datetime     dropoff_datetime  \\\n",
       "0        id2875421          2  2016-03-14 17:24:55  2016-03-14 17:32:30   \n",
       "1        id2377394          1  2016-06-12 00:43:35  2016-06-12 00:54:38   \n",
       "2        id3858529          2  2016-01-19 11:35:24  2016-01-19 12:10:48   \n",
       "3        id3504673          2  2016-04-06 19:32:31  2016-04-06 19:39:40   \n",
       "4        id2181028          2  2016-03-26 13:30:55  2016-03-26 13:38:10   \n",
       "...            ...        ...                  ...                  ...   \n",
       "1458639  id2376096          2  2016-04-08 13:31:04  2016-04-08 13:44:02   \n",
       "1458640  id1049543          1  2016-01-10 07:35:15  2016-01-10 07:46:10   \n",
       "1458641  id2304944          2  2016-04-22 06:57:41  2016-04-22 07:10:25   \n",
       "1458642  id2714485          1  2016-01-05 15:56:26  2016-01-05 16:02:39   \n",
       "1458643  id1209952          1  2016-04-05 14:44:25  2016-04-05 14:47:43   \n",
       "\n",
       "         passenger_count  pickup_longitude  pickup_latitude  \\\n",
       "0                      1        -73.982155        40.767937   \n",
       "1                      1        -73.980415        40.738564   \n",
       "2                      1        -73.979027        40.763939   \n",
       "3                      1        -74.010040        40.719971   \n",
       "4                      1        -73.973053        40.793209   \n",
       "...                  ...               ...              ...   \n",
       "1458639                4        -73.982201        40.745522   \n",
       "1458640                1        -74.000946        40.747379   \n",
       "1458641                1        -73.959129        40.768799   \n",
       "1458642                1        -73.982079        40.749062   \n",
       "1458643                1        -73.979538        40.781750   \n",
       "\n",
       "         dropoff_longitude  dropoff_latitude store_and_fwd_flag  trip_duration  \n",
       "0               -73.964630         40.765602                  N            455  \n",
       "1               -73.999481         40.731152                  N            663  \n",
       "2               -74.005333         40.710087                  N           2124  \n",
       "3               -74.012268         40.706718                  N            429  \n",
       "4               -73.972923         40.782520                  N            435  \n",
       "...                    ...               ...                ...            ...  \n",
       "1458639         -73.994911         40.740170                  N            778  \n",
       "1458640         -73.970184         40.796547                  N            655  \n",
       "1458641         -74.004433         40.707371                  N            764  \n",
       "1458642         -73.974632         40.757107                  N            373  \n",
       "1458643         -73.972809         40.790585                  N            198  \n",
       "\n",
       "[1458644 rows x 11 columns]"
      ]
     },
     "execution_count": 25,
     "metadata": {},
     "output_type": "execute_result"
    }
   ],
   "source": [
    "df=df_train\n",
    "df"
   ]
  },
  {
   "cell_type": "code",
   "execution_count": 27,
   "id": "3049a90d-db72-4340-840d-33ee8b942815",
   "metadata": {
    "execution": {
     "iopub.execute_input": "2022-08-22T12:46:22.266320Z",
     "iopub.status.busy": "2022-08-22T12:46:22.265277Z",
     "iopub.status.idle": "2022-08-22T12:46:22.710351Z",
     "shell.execute_reply": "2022-08-22T12:46:22.709090Z",
     "shell.execute_reply.started": "2022-08-22T12:46:22.266287Z"
    },
    "scrolled": true,
    "tags": []
   },
   "outputs": [
    {
     "data": {
      "image/png": "[encoded data removed]",
      "text/plain": [
       "<Figure size 1296x432 with 1 Axes>"
      ]
     },
     "metadata": {
      "needs_background": "light"
     },
     "output_type": "display_data"
    }
   ],
   "source": [
    "plt.subplots(figsize=(18,6))\r\n",
    "plt.hist(df['trip_duration'].values, bins=100)\r\n",
    "plt.xlabel('trip_duration')\r\n",
    "plt.ylabel('number of train records')\r\n",
    "plt.savefig(\"fig-1.eps\")\r\n",
    "plt.show()"
   ]
  },
  {
   "cell_type": "code",
   "execution_count": 28,
   "id": "fd1b8834-3ebc-41ed-a97a-c7acba2b4a28",
   "metadata": {
    "execution": {
     "iopub.execute_input": "2022-08-22T12:47:24.536249Z",
     "iopub.status.busy": "2022-08-22T12:47:24.535342Z",
     "iopub.status.idle": "2022-08-22T12:47:24.806949Z",
     "shell.execute_reply": "2022-08-22T12:47:24.806249Z",
     "shell.execute_reply.started": "2022-08-22T12:47:24.536206Z"
    },
    "scrolled": true,
    "tags": []
   },
   "outputs": [
    {
     "data": {
      "image/png": "[encoded data removed]",
      "text/plain": [
       "<Figure size 432x288 with 1 Axes>"
      ]
     },
     "metadata": {
      "needs_background": "light"
     },
     "output_type": "display_data"
    }
   ],
   "source": [
    "#plot the count of passenger_count\r\n",
    "sns.countplot(x=\"passenger_count\", data=df)\r\n",
    "plt.savefig(\"fig-2.eps\")\r\n",
    "plt.show()"
   ]
  },
  {
   "cell_type": "code",
   "execution_count": 29,
   "id": "f2ebc2bb-2c62-4502-ba8b-8e75fe45552a",
   "metadata": {
    "execution": {
     "iopub.execute_input": "2022-08-22T12:48:10.582858Z",
     "iopub.status.busy": "2022-08-22T12:48:10.582100Z",
     "iopub.status.idle": "2022-08-22T12:48:13.864710Z",
     "shell.execute_reply": "2022-08-22T12:48:13.864003Z",
     "shell.execute_reply.started": "2022-08-22T12:48:10.582813Z"
    },
    "scrolled": true,
    "tags": []
   },
   "outputs": [
    {
     "data": {
      "image/png": "[encoded data removed]",
      "text/plain": [
       "<Figure size 576x360 with 1 Axes>"
      ]
     },
     "metadata": {
      "needs_background": "light"
     },
     "output_type": "display_data"
    }
   ],
   "source": [
    "plt.figure(figsize=(8,5))\r\n",
    "sns.kdeplot(np.log(df.loc[df['store_and_fwd_flag']=='Y','trip_duration'].values),label= 'Store and Fwd =Yes')\r\n",
    "sns.kdeplot(np.log(df.loc[df['store_and_fwd_flag']=='N','trip_duration'].values),label= 'Store and Fwd =No')\r\n",
    "   \r\n",
    "plt.title(\"Distribution of  Store and Fwd Flag vs Trip Duration(log scale)\")\r\n",
    "plt.xlabel('Trip Duration (log scale)')\r\n",
    "plt.ylabel('Density')\r\n",
    "plt.savefig(\"fig-3.eps\")"
   ]
  },
  {
   "cell_type": "markdown",
   "id": "f2e71da1-8621-4bc7-ace4-2299c1c360d8",
   "metadata": {},
   "source": [
    "# 理解数据（表单说明）\n",
    "\n",
    " id - 每次行程的唯一ID\n",
    " vendor_id - 行程提供者的ID\n",
    " pickup_datetime - 上车的日期和时间\n",
    " dropoff_datetime - 停表的日期和时间\n",
    " passenger_count - 车辆中的乘客数量（驾驶员输入值）\n",
    " pickup_longitude - 上车的经度\n",
    " pickup_latitude - 上车的纬度\n",
    " dropoff_longitude - 下车经度\n",
    " dropoff_latitude - 下车的纬度\n",
    " store_and_fwd_flag - 行程记录是否为存储转发（或是直接发送）-- Y =存储和转发 N =没有存储\n",
    " trip_duration - 行程持续时间（秒）\n"
   ]
  },
  {
   "cell_type": "code",
   "execution_count": 30,
   "id": "bf71c758-7cf2-41c6-a042-7320235b2ed5",
   "metadata": {
    "execution": {
     "iopub.execute_input": "2022-08-22T12:48:42.781475Z",
     "iopub.status.busy": "2022-08-22T12:48:42.780708Z",
     "iopub.status.idle": "2022-08-22T12:48:42.887942Z",
     "shell.execute_reply": "2022-08-22T12:48:42.887248Z",
     "shell.execute_reply.started": "2022-08-22T12:48:42.781446Z"
    },
    "scrolled": true,
    "tags": []
   },
   "outputs": [
    {
     "data": {
      "text/plain": [
       "N    1450599\n",
       "Y       8045\n",
       "Name: store_and_fwd_flag, dtype: int64"
      ]
     },
     "execution_count": 30,
     "metadata": {},
     "output_type": "execute_result"
    }
   ],
   "source": [
    "df_train['store_and_fwd_flag'].value_counts()"
   ]
  },
  {
   "cell_type": "code",
   "execution_count": 31,
   "id": "e1b21a61-e062-49e7-8117-d00d83a1c796",
   "metadata": {
    "execution": {
     "iopub.execute_input": "2022-08-22T12:48:47.248041Z",
     "iopub.status.busy": "2022-08-22T12:48:47.247275Z",
     "iopub.status.idle": "2022-08-22T12:48:58.769091Z",
     "shell.execute_reply": "2022-08-22T12:48:58.768272Z",
     "shell.execute_reply.started": "2022-08-22T12:48:47.248011Z"
    },
    "scrolled": true,
    "tags": []
   },
   "outputs": [
    {
     "data": {
      "text/plain": [
       "<matplotlib.axes._subplots.AxesSubplot at 0x7f0e79cee050>"
      ]
     },
     "execution_count": 31,
     "metadata": {},
     "output_type": "execute_result"
    },
    {
     "data": {
      "image/png": "[encoded data removed]",
      "text/plain": [
       "<Figure size 432x288 with 1 Axes>"
      ]
     },
     "metadata": {
      "needs_background": "light"
     },
     "output_type": "display_data"
    }
   ],
   "source": [
    "sns.scatterplot(x='pickup_longitude',y='trip_duration',data=df_train)"
   ]
  },
  {
   "cell_type": "code",
   "execution_count": 6,
   "id": "416bf135-08a7-43a5-b1a2-fbe4d94c0fbc",
   "metadata": {
    "execution": {
     "iopub.execute_input": "2022-08-22T12:25:28.774792Z",
     "iopub.status.busy": "2022-08-22T12:25:28.774249Z",
     "iopub.status.idle": "2022-08-22T12:25:29.015925Z",
     "shell.execute_reply": "2022-08-22T12:25:29.015164Z",
     "shell.execute_reply.started": "2022-08-22T12:25:28.774766Z"
    },
    "scrolled": true,
    "tags": []
   },
   "outputs": [],
   "source": [
    "#根据经度纬度选择合适的时间，把少的干扰的数据删除掉,小于1000000都行\n",
    "df_train= df_train.loc[df_train['trip_duration']<1000000]"
   ]
  },
  {
   "cell_type": "code",
   "execution_count": 32,
   "id": "6b637f51-2c7b-4d28-8f0f-215c9e50b633",
   "metadata": {
    "execution": {
     "iopub.execute_input": "2022-08-22T12:48:58.792229Z",
     "iopub.status.busy": "2022-08-22T12:48:58.791819Z",
     "iopub.status.idle": "2022-08-22T12:49:10.248301Z",
     "shell.execute_reply": "2022-08-22T12:49:10.247598Z",
     "shell.execute_reply.started": "2022-08-22T12:48:58.792205Z"
    },
    "scrolled": true,
    "tags": []
   },
   "outputs": [
    {
     "data": {
      "text/plain": [
       "<matplotlib.axes._subplots.AxesSubplot at 0x7f0e79cd7610>"
      ]
     },
     "execution_count": 32,
     "metadata": {},
     "output_type": "execute_result"
    },
    {
     "data": {
      "image/png": "[encoded data removed]",
      "text/plain": [
       "<Figure size 432x288 with 1 Axes>"
      ]
     },
     "metadata": {
      "needs_background": "light"
     },
     "output_type": "display_data"
    }
   ],
   "source": [
    "sns.scatterplot(x='pickup_latitude',y='trip_duration',data=df_train)"
   ]
  },
  {
   "cell_type": "code",
   "execution_count": 36,
   "id": "5a82599f-2b3f-4389-8250-51e667e2485e",
   "metadata": {
    "execution": {
     "iopub.execute_input": "2022-08-22T12:49:56.327694Z",
     "iopub.status.busy": "2022-08-22T12:49:56.326609Z",
     "iopub.status.idle": "2022-08-22T12:49:56.460897Z",
     "shell.execute_reply": "2022-08-22T12:49:56.460042Z",
     "shell.execute_reply.started": "2022-08-22T12:49:56.327660Z"
    },
    "scrolled": true,
    "tags": []
   },
   "outputs": [
    {
     "data": {
      "text/html": [
       "<div>\n",
       "<style scoped>\n",
       "    .dataframe tbody tr th:only-of-type {\n",
       "        vertical-align: middle;\n",
       "    }\n",
       "\n",
       "    .dataframe tbody tr th {\n",
       "        vertical-align: top;\n",
       "    }\n",
       "\n",
       "    .dataframe thead th {\n",
       "        text-align: right;\n",
       "    }\n",
       "</style>\n",
       "<table border=\"1\" class=\"dataframe\">\n",
       "  <thead>\n",
       "    <tr style=\"text-align: right;\">\n",
       "      <th></th>\n",
       "      <th>vendor_id</th>\n",
       "      <th>pickup_datetime</th>\n",
       "      <th>passenger_count</th>\n",
       "      <th>pickup_longitude</th>\n",
       "      <th>pickup_latitude</th>\n",
       "      <th>dropoff_longitude</th>\n",
       "      <th>dropoff_latitude</th>\n",
       "      <th>store_and_fwd_flag</th>\n",
       "      <th>trip_duration</th>\n",
       "    </tr>\n",
       "  </thead>\n",
       "  <tbody>\n",
       "    <tr>\n",
       "      <th>0</th>\n",
       "      <td>2</td>\n",
       "      <td>2016-03-14 17:24:55</td>\n",
       "      <td>1</td>\n",
       "      <td>-73.982155</td>\n",
       "      <td>40.767937</td>\n",
       "      <td>-73.964630</td>\n",
       "      <td>40.765602</td>\n",
       "      <td>N</td>\n",
       "      <td>455</td>\n",
       "    </tr>\n",
       "    <tr>\n",
       "      <th>1</th>\n",
       "      <td>1</td>\n",
       "      <td>2016-06-12 00:43:35</td>\n",
       "      <td>1</td>\n",
       "      <td>-73.980415</td>\n",
       "      <td>40.738564</td>\n",
       "      <td>-73.999481</td>\n",
       "      <td>40.731152</td>\n",
       "      <td>N</td>\n",
       "      <td>663</td>\n",
       "    </tr>\n",
       "    <tr>\n",
       "      <th>2</th>\n",
       "      <td>2</td>\n",
       "      <td>2016-01-19 11:35:24</td>\n",
       "      <td>1</td>\n",
       "      <td>-73.979027</td>\n",
       "      <td>40.763939</td>\n",
       "      <td>-74.005333</td>\n",
       "      <td>40.710087</td>\n",
       "      <td>N</td>\n",
       "      <td>2124</td>\n",
       "    </tr>\n",
       "    <tr>\n",
       "      <th>3</th>\n",
       "      <td>2</td>\n",
       "      <td>2016-04-06 19:32:31</td>\n",
       "      <td>1</td>\n",
       "      <td>-74.010040</td>\n",
       "      <td>40.719971</td>\n",
       "      <td>-74.012268</td>\n",
       "      <td>40.706718</td>\n",
       "      <td>N</td>\n",
       "      <td>429</td>\n",
       "    </tr>\n",
       "    <tr>\n",
       "      <th>4</th>\n",
       "      <td>2</td>\n",
       "      <td>2016-03-26 13:30:55</td>\n",
       "      <td>1</td>\n",
       "      <td>-73.973053</td>\n",
       "      <td>40.793209</td>\n",
       "      <td>-73.972923</td>\n",
       "      <td>40.782520</td>\n",
       "      <td>N</td>\n",
       "      <td>435</td>\n",
       "    </tr>\n",
       "    <tr>\n",
       "      <th>...</th>\n",
       "      <td>...</td>\n",
       "      <td>...</td>\n",
       "      <td>...</td>\n",
       "      <td>...</td>\n",
       "      <td>...</td>\n",
       "      <td>...</td>\n",
       "      <td>...</td>\n",
       "      <td>...</td>\n",
       "      <td>...</td>\n",
       "    </tr>\n",
       "    <tr>\n",
       "      <th>1458639</th>\n",
       "      <td>2</td>\n",
       "      <td>2016-04-08 13:31:04</td>\n",
       "      <td>4</td>\n",
       "      <td>-73.982201</td>\n",
       "      <td>40.745522</td>\n",
       "      <td>-73.994911</td>\n",
       "      <td>40.740170</td>\n",
       "      <td>N</td>\n",
       "      <td>778</td>\n",
       "    </tr>\n",
       "    <tr>\n",
       "      <th>1458640</th>\n",
       "      <td>1</td>\n",
       "      <td>2016-01-10 07:35:15</td>\n",
       "      <td>1</td>\n",
       "      <td>-74.000946</td>\n",
       "      <td>40.747379</td>\n",
       "      <td>-73.970184</td>\n",
       "      <td>40.796547</td>\n",
       "      <td>N</td>\n",
       "      <td>655</td>\n",
       "    </tr>\n",
       "    <tr>\n",
       "      <th>1458641</th>\n",
       "      <td>2</td>\n",
       "      <td>2016-04-22 06:57:41</td>\n",
       "      <td>1</td>\n",
       "      <td>-73.959129</td>\n",
       "      <td>40.768799</td>\n",
       "      <td>-74.004433</td>\n",
       "      <td>40.707371</td>\n",
       "      <td>N</td>\n",
       "      <td>764</td>\n",
       "    </tr>\n",
       "    <tr>\n",
       "      <th>1458642</th>\n",
       "      <td>1</td>\n",
       "      <td>2016-01-05 15:56:26</td>\n",
       "      <td>1</td>\n",
       "      <td>-73.982079</td>\n",
       "      <td>40.749062</td>\n",
       "      <td>-73.974632</td>\n",
       "      <td>40.757107</td>\n",
       "      <td>N</td>\n",
       "      <td>373</td>\n",
       "    </tr>\n",
       "    <tr>\n",
       "      <th>1458643</th>\n",
       "      <td>1</td>\n",
       "      <td>2016-04-05 14:44:25</td>\n",
       "      <td>1</td>\n",
       "      <td>-73.979538</td>\n",
       "      <td>40.781750</td>\n",
       "      <td>-73.972809</td>\n",
       "      <td>40.790585</td>\n",
       "      <td>N</td>\n",
       "      <td>198</td>\n",
       "    </tr>\n",
       "  </tbody>\n",
       "</table>\n",
       "<p>1458584 rows × 9 columns</p>\n",
       "</div>"
      ],
      "text/plain": [
       "         vendor_id      pickup_datetime  passenger_count  pickup_longitude  \\\n",
       "0                2  2016-03-14 17:24:55                1        -73.982155   \n",
       "1                1  2016-06-12 00:43:35                1        -73.980415   \n",
       "2                2  2016-01-19 11:35:24                1        -73.979027   \n",
       "3                2  2016-04-06 19:32:31                1        -74.010040   \n",
       "4                2  2016-03-26 13:30:55                1        -73.973053   \n",
       "...            ...                  ...              ...               ...   \n",
       "1458639          2  2016-04-08 13:31:04                4        -73.982201   \n",
       "1458640          1  2016-01-10 07:35:15                1        -74.000946   \n",
       "1458641          2  2016-04-22 06:57:41                1        -73.959129   \n",
       "1458642          1  2016-01-05 15:56:26                1        -73.982079   \n",
       "1458643          1  2016-04-05 14:44:25                1        -73.979538   \n",
       "\n",
       "         pickup_latitude  dropoff_longitude  dropoff_latitude  \\\n",
       "0              40.767937         -73.964630         40.765602   \n",
       "1              40.738564         -73.999481         40.731152   \n",
       "2              40.763939         -74.005333         40.710087   \n",
       "3              40.719971         -74.012268         40.706718   \n",
       "4              40.793209         -73.972923         40.782520   \n",
       "...                  ...                ...               ...   \n",
       "1458639        40.745522         -73.994911         40.740170   \n",
       "1458640        40.747379         -73.970184         40.796547   \n",
       "1458641        40.768799         -74.004433         40.707371   \n",
       "1458642        40.749062         -73.974632         40.757107   \n",
       "1458643        40.781750         -73.972809         40.790585   \n",
       "\n",
       "        store_and_fwd_flag  trip_duration  \n",
       "0                        N            455  \n",
       "1                        N            663  \n",
       "2                        N           2124  \n",
       "3                        N            429  \n",
       "4                        N            435  \n",
       "...                    ...            ...  \n",
       "1458639                  N            778  \n",
       "1458640                  N            655  \n",
       "1458641                  N            764  \n",
       "1458642                  N            373  \n",
       "1458643                  N            198  \n",
       "\n",
       "[1458584 rows x 9 columns]"
      ]
     },
     "execution_count": 36,
     "metadata": {},
     "output_type": "execute_result"
    }
   ],
   "source": [
    "df_train['passenger_count'].unique()#数字编码\n",
    "df_train= df_train.loc[df_train['passenger_count']!=0]#删除数字为0的数据\n",
    "df_train"
   ]
  },
  {
   "cell_type": "code",
   "execution_count": 35,
   "id": "d21cf341-a949-4cb2-bbb3-4adc2df0cf1e",
   "metadata": {
    "execution": {
     "iopub.execute_input": "2022-08-22T12:49:37.954516Z",
     "iopub.status.busy": "2022-08-22T12:49:37.953459Z",
     "iopub.status.idle": "2022-08-22T12:49:37.973322Z",
     "shell.execute_reply": "2022-08-22T12:49:37.972429Z",
     "shell.execute_reply.started": "2022-08-22T12:49:37.954475Z"
    },
    "scrolled": true,
    "tags": []
   },
   "outputs": [
    {
     "ename": "KeyError",
     "evalue": "\"['id'] not found in axis\"",
     "output_type": "error",
     "traceback": [
      "\u001b[0;31m---------------------------------------------------------------------------\u001b[0m",
      "\u001b[0;31mKeyError\u001b[0m                                  Traceback (most recent call last)",
      "\u001b[0;32m/tmp/ipykernel_1030/1595982884.py\u001b[0m in \u001b[0;36m<module>\u001b[0;34m\u001b[0m\n\u001b[1;32m      1\u001b[0m \u001b[0;31m#Drop column ID, \"dropoff time\" ( because duration and pickup time )\u001b[0m\u001b[0;34m\u001b[0m\u001b[0;34m\u001b[0m\u001b[0;34m\u001b[0m\u001b[0m\n\u001b[0;32m----> 2\u001b[0;31m \u001b[0mdf_train\u001b[0m\u001b[0;34m.\u001b[0m\u001b[0mdrop\u001b[0m\u001b[0;34m(\u001b[0m\u001b[0;34m'id'\u001b[0m\u001b[0;34m,\u001b[0m\u001b[0minplace\u001b[0m\u001b[0;34m=\u001b[0m\u001b[0;32mTrue\u001b[0m\u001b[0;34m,\u001b[0m\u001b[0maxis\u001b[0m\u001b[0;34m=\u001b[0m\u001b[0;36m1\u001b[0m\u001b[0;34m)\u001b[0m\u001b[0;34m\u001b[0m\u001b[0;34m\u001b[0m\u001b[0m\n\u001b[0m\u001b[1;32m      3\u001b[0m \u001b[0mdf_train\u001b[0m\u001b[0;34m.\u001b[0m\u001b[0mdrop\u001b[0m\u001b[0;34m(\u001b[0m\u001b[0;34m'dropoff_datetime'\u001b[0m\u001b[0;34m,\u001b[0m\u001b[0minplace\u001b[0m\u001b[0;34m=\u001b[0m\u001b[0;32mTrue\u001b[0m\u001b[0;34m,\u001b[0m\u001b[0maxis\u001b[0m\u001b[0;34m=\u001b[0m\u001b[0;36m1\u001b[0m\u001b[0;34m)\u001b[0m\u001b[0;34m\u001b[0m\u001b[0;34m\u001b[0m\u001b[0m\n",
      "\u001b[0;32m/opt/conda/envs/python35-paddle120-env/lib/python3.7/site-packages/pandas/core/frame.py\u001b[0m in \u001b[0;36mdrop\u001b[0;34m(self, labels, axis, index, columns, level, inplace, errors)\u001b[0m\n\u001b[1;32m   4172\u001b[0m             \u001b[0mlevel\u001b[0m\u001b[0;34m=\u001b[0m\u001b[0mlevel\u001b[0m\u001b[0;34m,\u001b[0m\u001b[0;34m\u001b[0m\u001b[0;34m\u001b[0m\u001b[0m\n\u001b[1;32m   4173\u001b[0m             \u001b[0minplace\u001b[0m\u001b[0;34m=\u001b[0m\u001b[0minplace\u001b[0m\u001b[0;34m,\u001b[0m\u001b[0;34m\u001b[0m\u001b[0;34m\u001b[0m\u001b[0m\n\u001b[0;32m-> 4174\u001b[0;31m             \u001b[0merrors\u001b[0m\u001b[0;34m=\u001b[0m\u001b[0merrors\u001b[0m\u001b[0;34m,\u001b[0m\u001b[0;34m\u001b[0m\u001b[0;34m\u001b[0m\u001b[0m\n\u001b[0m\u001b[1;32m   4175\u001b[0m         )\n\u001b[1;32m   4176\u001b[0m \u001b[0;34m\u001b[0m\u001b[0m\n",
      "\u001b[0;32m/opt/conda/envs/python35-paddle120-env/lib/python3.7/site-packages/pandas/core/generic.py\u001b[0m in \u001b[0;36mdrop\u001b[0;34m(self, labels, axis, index, columns, level, inplace, errors)\u001b[0m\n\u001b[1;32m   3887\u001b[0m         \u001b[0;32mfor\u001b[0m \u001b[0maxis\u001b[0m\u001b[0;34m,\u001b[0m \u001b[0mlabels\u001b[0m \u001b[0;32min\u001b[0m \u001b[0maxes\u001b[0m\u001b[0;34m.\u001b[0m\u001b[0mitems\u001b[0m\u001b[0;34m(\u001b[0m\u001b[0;34m)\u001b[0m\u001b[0;34m:\u001b[0m\u001b[0;34m\u001b[0m\u001b[0;34m\u001b[0m\u001b[0m\n\u001b[1;32m   3888\u001b[0m             \u001b[0;32mif\u001b[0m \u001b[0mlabels\u001b[0m \u001b[0;32mis\u001b[0m \u001b[0;32mnot\u001b[0m \u001b[0;32mNone\u001b[0m\u001b[0;34m:\u001b[0m\u001b[0;34m\u001b[0m\u001b[0;34m\u001b[0m\u001b[0m\n\u001b[0;32m-> 3889\u001b[0;31m                 \u001b[0mobj\u001b[0m \u001b[0;34m=\u001b[0m \u001b[0mobj\u001b[0m\u001b[0;34m.\u001b[0m\u001b[0m_drop_axis\u001b[0m\u001b[0;34m(\u001b[0m\u001b[0mlabels\u001b[0m\u001b[0;34m,\u001b[0m \u001b[0maxis\u001b[0m\u001b[0;34m,\u001b[0m \u001b[0mlevel\u001b[0m\u001b[0;34m=\u001b[0m\u001b[0mlevel\u001b[0m\u001b[0;34m,\u001b[0m \u001b[0merrors\u001b[0m\u001b[0;34m=\u001b[0m\u001b[0merrors\u001b[0m\u001b[0;34m)\u001b[0m\u001b[0;34m\u001b[0m\u001b[0;34m\u001b[0m\u001b[0m\n\u001b[0m\u001b[1;32m   3890\u001b[0m \u001b[0;34m\u001b[0m\u001b[0m\n\u001b[1;32m   3891\u001b[0m         \u001b[0;32mif\u001b[0m \u001b[0minplace\u001b[0m\u001b[0;34m:\u001b[0m\u001b[0;34m\u001b[0m\u001b[0;34m\u001b[0m\u001b[0m\n",
      "\u001b[0;32m/opt/conda/envs/python35-paddle120-env/lib/python3.7/site-packages/pandas/core/generic.py\u001b[0m in \u001b[0;36m_drop_axis\u001b[0;34m(self, labels, axis, level, errors)\u001b[0m\n\u001b[1;32m   3921\u001b[0m                 \u001b[0mnew_axis\u001b[0m \u001b[0;34m=\u001b[0m \u001b[0maxis\u001b[0m\u001b[0;34m.\u001b[0m\u001b[0mdrop\u001b[0m\u001b[0;34m(\u001b[0m\u001b[0mlabels\u001b[0m\u001b[0;34m,\u001b[0m \u001b[0mlevel\u001b[0m\u001b[0;34m=\u001b[0m\u001b[0mlevel\u001b[0m\u001b[0;34m,\u001b[0m \u001b[0merrors\u001b[0m\u001b[0;34m=\u001b[0m\u001b[0merrors\u001b[0m\u001b[0;34m)\u001b[0m\u001b[0;34m\u001b[0m\u001b[0;34m\u001b[0m\u001b[0m\n\u001b[1;32m   3922\u001b[0m             \u001b[0;32melse\u001b[0m\u001b[0;34m:\u001b[0m\u001b[0;34m\u001b[0m\u001b[0;34m\u001b[0m\u001b[0m\n\u001b[0;32m-> 3923\u001b[0;31m                 \u001b[0mnew_axis\u001b[0m \u001b[0;34m=\u001b[0m \u001b[0maxis\u001b[0m\u001b[0;34m.\u001b[0m\u001b[0mdrop\u001b[0m\u001b[0;34m(\u001b[0m\u001b[0mlabels\u001b[0m\u001b[0;34m,\u001b[0m \u001b[0merrors\u001b[0m\u001b[0;34m=\u001b[0m\u001b[0merrors\u001b[0m\u001b[0;34m)\u001b[0m\u001b[0;34m\u001b[0m\u001b[0;34m\u001b[0m\u001b[0m\n\u001b[0m\u001b[1;32m   3924\u001b[0m             \u001b[0mresult\u001b[0m \u001b[0;34m=\u001b[0m \u001b[0mself\u001b[0m\u001b[0;34m.\u001b[0m\u001b[0mreindex\u001b[0m\u001b[0;34m(\u001b[0m\u001b[0;34m**\u001b[0m\u001b[0;34m{\u001b[0m\u001b[0maxis_name\u001b[0m\u001b[0;34m:\u001b[0m \u001b[0mnew_axis\u001b[0m\u001b[0;34m}\u001b[0m\u001b[0;34m)\u001b[0m\u001b[0;34m\u001b[0m\u001b[0;34m\u001b[0m\u001b[0m\n\u001b[1;32m   3925\u001b[0m \u001b[0;34m\u001b[0m\u001b[0m\n",
      "\u001b[0;32m/opt/conda/envs/python35-paddle120-env/lib/python3.7/site-packages/pandas/core/indexes/base.py\u001b[0m in \u001b[0;36mdrop\u001b[0;34m(self, labels, errors)\u001b[0m\n\u001b[1;32m   5285\u001b[0m         \u001b[0;32mif\u001b[0m \u001b[0mmask\u001b[0m\u001b[0;34m.\u001b[0m\u001b[0many\u001b[0m\u001b[0;34m(\u001b[0m\u001b[0;34m)\u001b[0m\u001b[0;34m:\u001b[0m\u001b[0;34m\u001b[0m\u001b[0;34m\u001b[0m\u001b[0m\n\u001b[1;32m   5286\u001b[0m             \u001b[0;32mif\u001b[0m \u001b[0merrors\u001b[0m \u001b[0;34m!=\u001b[0m \u001b[0;34m\"ignore\"\u001b[0m\u001b[0;34m:\u001b[0m\u001b[0;34m\u001b[0m\u001b[0;34m\u001b[0m\u001b[0m\n\u001b[0;32m-> 5287\u001b[0;31m                 \u001b[0;32mraise\u001b[0m \u001b[0mKeyError\u001b[0m\u001b[0;34m(\u001b[0m\u001b[0;34mf\"{labels[mask]} not found in axis\"\u001b[0m\u001b[0;34m)\u001b[0m\u001b[0;34m\u001b[0m\u001b[0;34m\u001b[0m\u001b[0m\n\u001b[0m\u001b[1;32m   5288\u001b[0m             \u001b[0mindexer\u001b[0m \u001b[0;34m=\u001b[0m \u001b[0mindexer\u001b[0m\u001b[0;34m[\u001b[0m\u001b[0;34m~\u001b[0m\u001b[0mmask\u001b[0m\u001b[0;34m]\u001b[0m\u001b[0;34m\u001b[0m\u001b[0;34m\u001b[0m\u001b[0m\n\u001b[1;32m   5289\u001b[0m         \u001b[0;32mreturn\u001b[0m \u001b[0mself\u001b[0m\u001b[0;34m.\u001b[0m\u001b[0mdelete\u001b[0m\u001b[0;34m(\u001b[0m\u001b[0mindexer\u001b[0m\u001b[0;34m)\u001b[0m\u001b[0;34m\u001b[0m\u001b[0;34m\u001b[0m\u001b[0m\n",
      "\u001b[0;31mKeyError\u001b[0m: \"['id'] not found in axis\""
     ]
    }
   ],
   "source": [
    "#Drop column ID, \"dropoff time\" ( because duration and pickup time )\n",
    "df_train.drop('id',inplace=True,axis=1)\n",
    "df_train.drop('dropoff_datetime',inplace=True,axis=1)"
   ]
  },
  {
   "cell_type": "code",
   "execution_count": 37,
   "id": "817789ff-ce01-4e8d-ae87-72d347f671fd",
   "metadata": {
    "execution": {
     "iopub.execute_input": "2022-08-22T12:50:04.011298Z",
     "iopub.status.busy": "2022-08-22T12:50:04.010323Z",
     "iopub.status.idle": "2022-08-22T12:50:04.318599Z",
     "shell.execute_reply": "2022-08-22T12:50:04.317611Z",
     "shell.execute_reply.started": "2022-08-22T12:50:04.011263Z"
    },
    "scrolled": true,
    "tags": []
   },
   "outputs": [],
   "source": [
    "#Datetime: object->datetime-> hour, day of week, month\n",
    "df_train[\"pickup_datetime\"]=pd.to_datetime(df_train[\"pickup_datetime\"])"
   ]
  },
  {
   "cell_type": "code",
   "execution_count": 38,
   "id": "f4787f41-cf17-4d6e-b577-f6bfef3741da",
   "metadata": {
    "execution": {
     "iopub.execute_input": "2022-08-22T12:50:06.848238Z",
     "iopub.status.busy": "2022-08-22T12:50:06.847255Z",
     "iopub.status.idle": "2022-08-22T12:50:07.316045Z",
     "shell.execute_reply": "2022-08-22T12:50:07.315075Z",
     "shell.execute_reply.started": "2022-08-22T12:50:06.848207Z"
    },
    "scrolled": true,
    "tags": []
   },
   "outputs": [],
   "source": [
    "df_train['day_of_week'] = df_train['pickup_datetime'].dt.day_name()"
   ]
  },
  {
   "cell_type": "code",
   "execution_count": 39,
   "id": "78cd6820-6830-482d-b45b-c429c54d6d20",
   "metadata": {
    "execution": {
     "iopub.execute_input": "2022-08-22T12:50:09.004149Z",
     "iopub.status.busy": "2022-08-22T12:50:09.003333Z",
     "iopub.status.idle": "2022-08-22T12:50:09.297092Z",
     "shell.execute_reply": "2022-08-22T12:50:09.295667Z",
     "shell.execute_reply.started": "2022-08-22T12:50:09.004114Z"
    },
    "scrolled": true,
    "tags": []
   },
   "outputs": [],
   "source": [
    "df_train['hour_of_the_day']=df_train['pickup_datetime'].dt.hour\n",
    "df_train['month']=df_train['pickup_datetime'].dt.month"
   ]
  },
  {
   "cell_type": "code",
   "execution_count": 40,
   "id": "2ccc0ef1-805f-4380-8a47-53c08f67de04",
   "metadata": {
    "execution": {
     "iopub.execute_input": "2022-08-22T12:50:15.384594Z",
     "iopub.status.busy": "2022-08-22T12:50:15.384062Z",
     "iopub.status.idle": "2022-08-22T12:50:15.674518Z",
     "shell.execute_reply": "2022-08-22T12:50:15.673780Z",
     "shell.execute_reply.started": "2022-08-22T12:50:15.384565Z"
    },
    "scrolled": true,
    "tags": []
   },
   "outputs": [
    {
     "data": {
      "text/html": [
       "<div>\n",
       "<style scoped>\n",
       "    .dataframe tbody tr th:only-of-type {\n",
       "        vertical-align: middle;\n",
       "    }\n",
       "\n",
       "    .dataframe tbody tr th {\n",
       "        vertical-align: top;\n",
       "    }\n",
       "\n",
       "    .dataframe thead th {\n",
       "        text-align: right;\n",
       "    }\n",
       "</style>\n",
       "<table border=\"1\" class=\"dataframe\">\n",
       "  <thead>\n",
       "    <tr style=\"text-align: right;\">\n",
       "      <th></th>\n",
       "      <th>vendor_id</th>\n",
       "      <th>pickup_datetime</th>\n",
       "      <th>passenger_count</th>\n",
       "      <th>pickup_longitude</th>\n",
       "      <th>pickup_latitude</th>\n",
       "      <th>dropoff_longitude</th>\n",
       "      <th>dropoff_latitude</th>\n",
       "      <th>store_and_fwd_flag</th>\n",
       "      <th>trip_duration</th>\n",
       "      <th>day_of_week</th>\n",
       "      <th>hour_of_the_day</th>\n",
       "      <th>month</th>\n",
       "    </tr>\n",
       "  </thead>\n",
       "  <tbody>\n",
       "    <tr>\n",
       "      <th>0</th>\n",
       "      <td>2</td>\n",
       "      <td>2016-03-14 17:24:55</td>\n",
       "      <td>1</td>\n",
       "      <td>-73.982155</td>\n",
       "      <td>40.767937</td>\n",
       "      <td>-73.964630</td>\n",
       "      <td>40.765602</td>\n",
       "      <td>0</td>\n",
       "      <td>455</td>\n",
       "      <td>1</td>\n",
       "      <td>17</td>\n",
       "      <td>3</td>\n",
       "    </tr>\n",
       "    <tr>\n",
       "      <th>1</th>\n",
       "      <td>1</td>\n",
       "      <td>2016-06-12 00:43:35</td>\n",
       "      <td>1</td>\n",
       "      <td>-73.980415</td>\n",
       "      <td>40.738564</td>\n",
       "      <td>-73.999481</td>\n",
       "      <td>40.731152</td>\n",
       "      <td>0</td>\n",
       "      <td>663</td>\n",
       "      <td>7</td>\n",
       "      <td>0</td>\n",
       "      <td>6</td>\n",
       "    </tr>\n",
       "    <tr>\n",
       "      <th>2</th>\n",
       "      <td>2</td>\n",
       "      <td>2016-01-19 11:35:24</td>\n",
       "      <td>1</td>\n",
       "      <td>-73.979027</td>\n",
       "      <td>40.763939</td>\n",
       "      <td>-74.005333</td>\n",
       "      <td>40.710087</td>\n",
       "      <td>0</td>\n",
       "      <td>2124</td>\n",
       "      <td>2</td>\n",
       "      <td>11</td>\n",
       "      <td>1</td>\n",
       "    </tr>\n",
       "    <tr>\n",
       "      <th>3</th>\n",
       "      <td>2</td>\n",
       "      <td>2016-04-06 19:32:31</td>\n",
       "      <td>1</td>\n",
       "      <td>-74.010040</td>\n",
       "      <td>40.719971</td>\n",
       "      <td>-74.012268</td>\n",
       "      <td>40.706718</td>\n",
       "      <td>0</td>\n",
       "      <td>429</td>\n",
       "      <td>3</td>\n",
       "      <td>19</td>\n",
       "      <td>4</td>\n",
       "    </tr>\n",
       "    <tr>\n",
       "      <th>4</th>\n",
       "      <td>2</td>\n",
       "      <td>2016-03-26 13:30:55</td>\n",
       "      <td>1</td>\n",
       "      <td>-73.973053</td>\n",
       "      <td>40.793209</td>\n",
       "      <td>-73.972923</td>\n",
       "      <td>40.782520</td>\n",
       "      <td>0</td>\n",
       "      <td>435</td>\n",
       "      <td>6</td>\n",
       "      <td>13</td>\n",
       "      <td>3</td>\n",
       "    </tr>\n",
       "    <tr>\n",
       "      <th>...</th>\n",
       "      <td>...</td>\n",
       "      <td>...</td>\n",
       "      <td>...</td>\n",
       "      <td>...</td>\n",
       "      <td>...</td>\n",
       "      <td>...</td>\n",
       "      <td>...</td>\n",
       "      <td>...</td>\n",
       "      <td>...</td>\n",
       "      <td>...</td>\n",
       "      <td>...</td>\n",
       "      <td>...</td>\n",
       "    </tr>\n",
       "    <tr>\n",
       "      <th>1458639</th>\n",
       "      <td>2</td>\n",
       "      <td>2016-04-08 13:31:04</td>\n",
       "      <td>4</td>\n",
       "      <td>-73.982201</td>\n",
       "      <td>40.745522</td>\n",
       "      <td>-73.994911</td>\n",
       "      <td>40.740170</td>\n",
       "      <td>0</td>\n",
       "      <td>778</td>\n",
       "      <td>5</td>\n",
       "      <td>13</td>\n",
       "      <td>4</td>\n",
       "    </tr>\n",
       "    <tr>\n",
       "      <th>1458640</th>\n",
       "      <td>1</td>\n",
       "      <td>2016-01-10 07:35:15</td>\n",
       "      <td>1</td>\n",
       "      <td>-74.000946</td>\n",
       "      <td>40.747379</td>\n",
       "      <td>-73.970184</td>\n",
       "      <td>40.796547</td>\n",
       "      <td>0</td>\n",
       "      <td>655</td>\n",
       "      <td>7</td>\n",
       "      <td>7</td>\n",
       "      <td>1</td>\n",
       "    </tr>\n",
       "    <tr>\n",
       "      <th>1458641</th>\n",
       "      <td>2</td>\n",
       "      <td>2016-04-22 06:57:41</td>\n",
       "      <td>1</td>\n",
       "      <td>-73.959129</td>\n",
       "      <td>40.768799</td>\n",
       "      <td>-74.004433</td>\n",
       "      <td>40.707371</td>\n",
       "      <td>0</td>\n",
       "      <td>764</td>\n",
       "      <td>5</td>\n",
       "      <td>6</td>\n",
       "      <td>4</td>\n",
       "    </tr>\n",
       "    <tr>\n",
       "      <th>1458642</th>\n",
       "      <td>1</td>\n",
       "      <td>2016-01-05 15:56:26</td>\n",
       "      <td>1</td>\n",
       "      <td>-73.982079</td>\n",
       "      <td>40.749062</td>\n",
       "      <td>-73.974632</td>\n",
       "      <td>40.757107</td>\n",
       "      <td>0</td>\n",
       "      <td>373</td>\n",
       "      <td>2</td>\n",
       "      <td>15</td>\n",
       "      <td>1</td>\n",
       "    </tr>\n",
       "    <tr>\n",
       "      <th>1458643</th>\n",
       "      <td>1</td>\n",
       "      <td>2016-04-05 14:44:25</td>\n",
       "      <td>1</td>\n",
       "      <td>-73.979538</td>\n",
       "      <td>40.781750</td>\n",
       "      <td>-73.972809</td>\n",
       "      <td>40.790585</td>\n",
       "      <td>0</td>\n",
       "      <td>198</td>\n",
       "      <td>2</td>\n",
       "      <td>14</td>\n",
       "      <td>4</td>\n",
       "    </tr>\n",
       "  </tbody>\n",
       "</table>\n",
       "<p>1458584 rows × 12 columns</p>\n",
       "</div>"
      ],
      "text/plain": [
       "         vendor_id     pickup_datetime  passenger_count  pickup_longitude  \\\n",
       "0                2 2016-03-14 17:24:55                1        -73.982155   \n",
       "1                1 2016-06-12 00:43:35                1        -73.980415   \n",
       "2                2 2016-01-19 11:35:24                1        -73.979027   \n",
       "3                2 2016-04-06 19:32:31                1        -74.010040   \n",
       "4                2 2016-03-26 13:30:55                1        -73.973053   \n",
       "...            ...                 ...              ...               ...   \n",
       "1458639          2 2016-04-08 13:31:04                4        -73.982201   \n",
       "1458640          1 2016-01-10 07:35:15                1        -74.000946   \n",
       "1458641          2 2016-04-22 06:57:41                1        -73.959129   \n",
       "1458642          1 2016-01-05 15:56:26                1        -73.982079   \n",
       "1458643          1 2016-04-05 14:44:25                1        -73.979538   \n",
       "\n",
       "         pickup_latitude  dropoff_longitude  dropoff_latitude  \\\n",
       "0              40.767937         -73.964630         40.765602   \n",
       "1              40.738564         -73.999481         40.731152   \n",
       "2              40.763939         -74.005333         40.710087   \n",
       "3              40.719971         -74.012268         40.706718   \n",
       "4              40.793209         -73.972923         40.782520   \n",
       "...                  ...                ...               ...   \n",
       "1458639        40.745522         -73.994911         40.740170   \n",
       "1458640        40.747379         -73.970184         40.796547   \n",
       "1458641        40.768799         -74.004433         40.707371   \n",
       "1458642        40.749062         -73.974632         40.757107   \n",
       "1458643        40.781750         -73.972809         40.790585   \n",
       "\n",
       "         store_and_fwd_flag  trip_duration  day_of_week  hour_of_the_day  \\\n",
       "0                         0            455            1               17   \n",
       "1                         0            663            7                0   \n",
       "2                         0           2124            2               11   \n",
       "3                         0            429            3               19   \n",
       "4                         0            435            6               13   \n",
       "...                     ...            ...          ...              ...   \n",
       "1458639                   0            778            5               13   \n",
       "1458640                   0            655            7                7   \n",
       "1458641                   0            764            5                6   \n",
       "1458642                   0            373            2               15   \n",
       "1458643                   0            198            2               14   \n",
       "\n",
       "         month  \n",
       "0            3  \n",
       "1            6  \n",
       "2            1  \n",
       "3            4  \n",
       "4            3  \n",
       "...        ...  \n",
       "1458639      4  \n",
       "1458640      1  \n",
       "1458641      4  \n",
       "1458642      1  \n",
       "1458643      4  \n",
       "\n",
       "[1458584 rows x 12 columns]"
      ]
     },
     "execution_count": 40,
     "metadata": {},
     "output_type": "execute_result"
    }
   ],
   "source": [
    "df_train['day_of_week']=df_train['day_of_week'].map({'Monday':1,'Tuesday':2,'Wednesday':3,'Thursday':4,'Friday':5,'Saturday':6,'Sunday':7})\n",
    "df_train['store_and_fwd_flag']=df_train['store_and_fwd_flag'].map({'N':0,'Y':1}) #store_and_fwd_flag column: string to numeric\n",
    "df_train"
   ]
  },
  {
   "cell_type": "code",
   "execution_count": 41,
   "id": "7adde2a2-66d2-431f-9803-291e64a2d606",
   "metadata": {
    "execution": {
     "iopub.execute_input": "2022-08-22T12:51:05.362652Z",
     "iopub.status.busy": "2022-08-22T12:51:05.361876Z",
     "iopub.status.idle": "2022-08-22T12:51:05.725225Z",
     "shell.execute_reply": "2022-08-22T12:51:05.724327Z",
     "shell.execute_reply.started": "2022-08-22T12:51:05.362619Z"
    },
    "scrolled": true,
    "tags": []
   },
   "outputs": [
    {
     "data": {
      "image/png": "[encoded data removed]",
      "text/plain": [
       "<Figure size 432x288 with 1 Axes>"
      ]
     },
     "metadata": {
      "needs_background": "light"
     },
     "output_type": "display_data"
    }
   ],
   "source": [
    "#plot the count of passenger_count\r\n",
    "sns.countplot(x=\"store_and_fwd_flag\", data=df)\r\n",
    "plt.savefig(\"fig-4.eps\")\r\n",
    "plt.show()"
   ]
  },
  {
   "cell_type": "code",
   "execution_count": 42,
   "id": "51b7c004-97a9-42af-bbb5-dd60ed2aeec8",
   "metadata": {
    "execution": {
     "iopub.execute_input": "2022-08-22T12:51:19.872206Z",
     "iopub.status.busy": "2022-08-22T12:51:19.871772Z",
     "iopub.status.idle": "2022-08-22T12:51:19.877841Z",
     "shell.execute_reply": "2022-08-22T12:51:19.877162Z",
     "shell.execute_reply.started": "2022-08-22T12:51:19.872175Z"
    },
    "scrolled": true,
    "tags": []
   },
   "outputs": [],
   "source": [
    "#lat long to distance by haversine function\n",
    "def haversine(lat1, lon1, lat2, lon2):\n",
    "    # distance between latitudes and longitudes\n",
    "    dLat = (lat2 - lat1) * math.pi / 180.0\n",
    "    dLon = (lon2 - lon1) * math.pi / 180.0\n",
    " \n",
    "    # convert to radians\n",
    "    lat1 = (lat1) * math.pi / 180.0\n",
    "    lat2 = (lat2) * math.pi / 180.0\n",
    " \n",
    "    # apply formulae\n",
    "    a = (pow(math.sin(dLat / 2), 2) +\n",
    "         pow(math.sin(dLon / 2), 2) *\n",
    "             math.cos(lat1) * math.cos(lat2));\n",
    "    rad = 6371\n",
    "    c = 2 * math.asin(math.sqrt(a))\n",
    "    return rad * c"
   ]
  },
  {
   "cell_type": "code",
   "execution_count": 43,
   "id": "fd5b0b39-a923-4240-94a4-1e980265c4ca",
   "metadata": {
    "execution": {
     "iopub.execute_input": "2022-08-22T12:51:23.573314Z",
     "iopub.status.busy": "2022-08-22T12:51:23.572858Z",
     "iopub.status.idle": "2022-08-22T12:51:56.679315Z",
     "shell.execute_reply": "2022-08-22T12:51:56.678421Z",
     "shell.execute_reply.started": "2022-08-22T12:51:23.573279Z"
    },
    "scrolled": true,
    "tags": []
   },
   "outputs": [],
   "source": [
    "\n",
    "df_train['distance']=df_train.apply(lambda row:haversine(row['pickup_latitude'],row['pickup_longitude'],row['dropoff_latitude'],row['dropoff_longitude']),axis=1)\n",
    "df_train['distance']=df_train['distance'].astype(float)"
   ]
  },
  {
   "cell_type": "code",
   "execution_count": 44,
   "id": "179c785a-6a9c-4cf3-950e-72aa61c81969",
   "metadata": {
    "execution": {
     "iopub.execute_input": "2022-08-22T12:51:56.692300Z",
     "iopub.status.busy": "2022-08-22T12:51:56.692076Z",
     "iopub.status.idle": "2022-08-22T12:51:56.985833Z",
     "shell.execute_reply": "2022-08-22T12:51:56.984882Z",
     "shell.execute_reply.started": "2022-08-22T12:51:56.692281Z"
    },
    "scrolled": true,
    "tags": []
   },
   "outputs": [],
   "source": [
    "df_train.drop('pickup_longitude',inplace=True,axis=1)\n",
    "df_train.drop('pickup_latitude',inplace=True,axis=1)\n",
    "df_train.drop('dropoff_longitude',inplace=True,axis=1)\n",
    "df_train.drop('dropoff_latitude',inplace=True,axis=1)\n",
    "df_train.drop('pickup_datetime',inplace=True,axis=1)"
   ]
  },
  {
   "cell_type": "markdown",
   "id": "c6bd85f5-903d-452a-9b40-4ab82f904142",
   "metadata": {},
   "source": [
    "Smoothing: Removing noise from data using clustering, regression techniques, etc.\n",
    "Aggregation: Summary operations are applied to data.\n",
    "Normalization: Scaling of data to fall within a smaller range.\n",
    "Discretization: Raw values of numeric data are replaced by intervals. (for ex: age)\n",
    "\n",
    "NYCity data:\n",
    "\n",
    "# Normalization: trip_duration -> log(trip_duration)"
   ]
  },
  {
   "cell_type": "code",
   "execution_count": 45,
   "id": "64219410-fbfc-41a6-a7d6-0c9793c040cd",
   "metadata": {
    "execution": {
     "iopub.execute_input": "2022-08-22T12:51:56.987782Z",
     "iopub.status.busy": "2022-08-22T12:51:56.987458Z",
     "iopub.status.idle": "2022-08-22T12:52:00.386615Z",
     "shell.execute_reply": "2022-08-22T12:52:00.385899Z",
     "shell.execute_reply.started": "2022-08-22T12:51:56.987759Z"
    },
    "scrolled": true,
    "tags": []
   },
   "outputs": [
    {
     "data": {
      "image/png": "[encoded data removed]",
      "text/plain": [
       "<Figure size 432x288 with 1 Axes>"
      ]
     },
     "metadata": {
      "needs_background": "light"
     },
     "output_type": "display_data"
    }
   ],
   "source": [
    "\n",
    "sns.distplot(np.log(df_train['trip_duration'].values))\n",
    "df_train['trip_duration']=np.log(df_train['trip_duration'])\n",
    "plt.savefig(\"fig-5.eps\")"
   ]
  },
  {
   "cell_type": "code",
   "execution_count": 46,
   "id": "a3a8bfc9-55cd-42a9-9fe5-b40ae865eed0",
   "metadata": {
    "execution": {
     "iopub.execute_input": "2022-08-22T12:52:00.388216Z",
     "iopub.status.busy": "2022-08-22T12:52:00.387594Z",
     "iopub.status.idle": "2022-08-22T12:52:00.402007Z",
     "shell.execute_reply": "2022-08-22T12:52:00.401404Z",
     "shell.execute_reply.started": "2022-08-22T12:52:00.388190Z"
    },
    "scrolled": true,
    "tags": []
   },
   "outputs": [
    {
     "data": {
      "text/html": [
       "<div>\n",
       "<style scoped>\n",
       "    .dataframe tbody tr th:only-of-type {\n",
       "        vertical-align: middle;\n",
       "    }\n",
       "\n",
       "    .dataframe tbody tr th {\n",
       "        vertical-align: top;\n",
       "    }\n",
       "\n",
       "    .dataframe thead th {\n",
       "        text-align: right;\n",
       "    }\n",
       "</style>\n",
       "<table border=\"1\" class=\"dataframe\">\n",
       "  <thead>\n",
       "    <tr style=\"text-align: right;\">\n",
       "      <th></th>\n",
       "      <th>vendor_id</th>\n",
       "      <th>passenger_count</th>\n",
       "      <th>store_and_fwd_flag</th>\n",
       "      <th>trip_duration</th>\n",
       "      <th>day_of_week</th>\n",
       "      <th>hour_of_the_day</th>\n",
       "      <th>month</th>\n",
       "      <th>distance</th>\n",
       "    </tr>\n",
       "  </thead>\n",
       "  <tbody>\n",
       "    <tr>\n",
       "      <th>0</th>\n",
       "      <td>2</td>\n",
       "      <td>1</td>\n",
       "      <td>0</td>\n",
       "      <td>6.120297</td>\n",
       "      <td>1</td>\n",
       "      <td>17</td>\n",
       "      <td>3</td>\n",
       "      <td>1.498521</td>\n",
       "    </tr>\n",
       "    <tr>\n",
       "      <th>1</th>\n",
       "      <td>1</td>\n",
       "      <td>1</td>\n",
       "      <td>0</td>\n",
       "      <td>6.496775</td>\n",
       "      <td>7</td>\n",
       "      <td>0</td>\n",
       "      <td>6</td>\n",
       "      <td>1.805507</td>\n",
       "    </tr>\n",
       "    <tr>\n",
       "      <th>2</th>\n",
       "      <td>2</td>\n",
       "      <td>1</td>\n",
       "      <td>0</td>\n",
       "      <td>7.661056</td>\n",
       "      <td>2</td>\n",
       "      <td>11</td>\n",
       "      <td>1</td>\n",
       "      <td>6.385098</td>\n",
       "    </tr>\n",
       "    <tr>\n",
       "      <th>3</th>\n",
       "      <td>2</td>\n",
       "      <td>1</td>\n",
       "      <td>0</td>\n",
       "      <td>6.061457</td>\n",
       "      <td>3</td>\n",
       "      <td>19</td>\n",
       "      <td>4</td>\n",
       "      <td>1.485498</td>\n",
       "    </tr>\n",
       "    <tr>\n",
       "      <th>4</th>\n",
       "      <td>2</td>\n",
       "      <td>1</td>\n",
       "      <td>0</td>\n",
       "      <td>6.075346</td>\n",
       "      <td>6</td>\n",
       "      <td>13</td>\n",
       "      <td>3</td>\n",
       "      <td>1.188588</td>\n",
       "    </tr>\n",
       "    <tr>\n",
       "      <th>...</th>\n",
       "      <td>...</td>\n",
       "      <td>...</td>\n",
       "      <td>...</td>\n",
       "      <td>...</td>\n",
       "      <td>...</td>\n",
       "      <td>...</td>\n",
       "      <td>...</td>\n",
       "      <td>...</td>\n",
       "    </tr>\n",
       "    <tr>\n",
       "      <th>1458639</th>\n",
       "      <td>2</td>\n",
       "      <td>4</td>\n",
       "      <td>0</td>\n",
       "      <td>6.656727</td>\n",
       "      <td>5</td>\n",
       "      <td>13</td>\n",
       "      <td>4</td>\n",
       "      <td>1.225080</td>\n",
       "    </tr>\n",
       "    <tr>\n",
       "      <th>1458640</th>\n",
       "      <td>1</td>\n",
       "      <td>1</td>\n",
       "      <td>0</td>\n",
       "      <td>6.484635</td>\n",
       "      <td>7</td>\n",
       "      <td>7</td>\n",
       "      <td>1</td>\n",
       "      <td>6.049836</td>\n",
       "    </tr>\n",
       "    <tr>\n",
       "      <th>1458641</th>\n",
       "      <td>2</td>\n",
       "      <td>1</td>\n",
       "      <td>0</td>\n",
       "      <td>6.638568</td>\n",
       "      <td>5</td>\n",
       "      <td>6</td>\n",
       "      <td>4</td>\n",
       "      <td>7.824606</td>\n",
       "    </tr>\n",
       "    <tr>\n",
       "      <th>1458642</th>\n",
       "      <td>1</td>\n",
       "      <td>1</td>\n",
       "      <td>0</td>\n",
       "      <td>5.921578</td>\n",
       "      <td>2</td>\n",
       "      <td>15</td>\n",
       "      <td>1</td>\n",
       "      <td>1.092564</td>\n",
       "    </tr>\n",
       "    <tr>\n",
       "      <th>1458643</th>\n",
       "      <td>1</td>\n",
       "      <td>1</td>\n",
       "      <td>0</td>\n",
       "      <td>5.288267</td>\n",
       "      <td>2</td>\n",
       "      <td>14</td>\n",
       "      <td>4</td>\n",
       "      <td>1.134042</td>\n",
       "    </tr>\n",
       "  </tbody>\n",
       "</table>\n",
       "<p>1458584 rows × 8 columns</p>\n",
       "</div>"
      ],
      "text/plain": [
       "         vendor_id  passenger_count  store_and_fwd_flag  trip_duration  \\\n",
       "0                2                1                   0       6.120297   \n",
       "1                1                1                   0       6.496775   \n",
       "2                2                1                   0       7.661056   \n",
       "3                2                1                   0       6.061457   \n",
       "4                2                1                   0       6.075346   \n",
       "...            ...              ...                 ...            ...   \n",
       "1458639          2                4                   0       6.656727   \n",
       "1458640          1                1                   0       6.484635   \n",
       "1458641          2                1                   0       6.638568   \n",
       "1458642          1                1                   0       5.921578   \n",
       "1458643          1                1                   0       5.288267   \n",
       "\n",
       "         day_of_week  hour_of_the_day  month  distance  \n",
       "0                  1               17      3  1.498521  \n",
       "1                  7                0      6  1.805507  \n",
       "2                  2               11      1  6.385098  \n",
       "3                  3               19      4  1.485498  \n",
       "4                  6               13      3  1.188588  \n",
       "...              ...              ...    ...       ...  \n",
       "1458639            5               13      4  1.225080  \n",
       "1458640            7                7      1  6.049836  \n",
       "1458641            5                6      4  7.824606  \n",
       "1458642            2               15      1  1.092564  \n",
       "1458643            2               14      4  1.134042  \n",
       "\n",
       "[1458584 rows x 8 columns]"
      ]
     },
     "execution_count": 46,
     "metadata": {},
     "output_type": "execute_result"
    }
   ],
   "source": [
    "df_train"
   ]
  },
  {
   "cell_type": "code",
   "execution_count": 47,
   "id": "9bca9d25-58ad-461b-8825-bed6ad3163fe",
   "metadata": {
    "execution": {
     "iopub.execute_input": "2022-08-22T12:52:26.516021Z",
     "iopub.status.busy": "2022-08-22T12:52:26.515246Z",
     "iopub.status.idle": "2022-08-22T12:52:27.408249Z",
     "shell.execute_reply": "2022-08-22T12:52:27.406791Z",
     "shell.execute_reply.started": "2022-08-22T12:52:26.515991Z"
    },
    "scrolled": true,
    "tags": []
   },
   "outputs": [
    {
     "data": {
      "image/png": "[encoded data removed]",
      "text/plain": [
       "<Figure size 1080x720 with 2 Axes>"
      ]
     },
     "metadata": {
      "needs_background": "light"
     },
     "output_type": "display_data"
    }
   ],
   "source": [
    "cor_matrix = df_train.corr().round(2)\r\n",
    "\r\n",
    "fig = plt.figure(figsize = (15,10))\r\n",
    "sns.heatmap(cor_matrix, annot = True, center = 0,\r\n",
    "           cmap = sns.diverging_palette(250, 10, as_cmap = True),\r\n",
    "           ax = plt.subplot(111))\r\n",
    "plt.savefig(\"fig-6.eps\")"
   ]
  },
  {
   "cell_type": "code",
   "execution_count": 48,
   "id": "c3461fd7-2bb1-471f-9d85-79bd86c96538",
   "metadata": {
    "execution": {
     "iopub.execute_input": "2022-08-22T12:53:45.340127Z",
     "iopub.status.busy": "2022-08-22T12:53:45.339266Z",
     "iopub.status.idle": "2022-08-22T12:53:45.535211Z",
     "shell.execute_reply": "2022-08-22T12:53:45.534359Z",
     "shell.execute_reply.started": "2022-08-22T12:53:45.340085Z"
    },
    "scrolled": true,
    "tags": []
   },
   "outputs": [
    {
     "data": {
      "image/png": "[encoded data removed]",
      "text/plain": [
       "<Figure size 432x288 with 1 Axes>"
      ]
     },
     "metadata": {
      "needs_background": "light"
     },
     "output_type": "display_data"
    }
   ],
   "source": [
    "sns.countplot(x=\"vendor_id\", data=df_train)\r\n",
    "plt.savefig(\"fig-7.eps\")\r\n",
    "plt.show()"
   ]
  },
  {
   "cell_type": "code",
   "execution_count": 49,
   "id": "a584f242-b184-4f44-a8f9-d34da1e177e1",
   "metadata": {
    "execution": {
     "iopub.execute_input": "2022-08-22T12:54:19.058845Z",
     "iopub.status.busy": "2022-08-22T12:54:19.057897Z",
     "iopub.status.idle": "2022-08-22T12:54:19.278382Z",
     "shell.execute_reply": "2022-08-22T12:54:19.277618Z",
     "shell.execute_reply.started": "2022-08-22T12:54:19.058810Z"
    },
    "scrolled": true,
    "tags": []
   },
   "outputs": [
    {
     "data": {
      "image/png": "[encoded data removed]",
      "text/plain": [
       "<Figure size 432x288 with 1 Axes>"
      ]
     },
     "metadata": {
      "needs_background": "light"
     },
     "output_type": "display_data"
    }
   ],
   "source": [
    "sns.countplot(x=\"day_of_week\", data=df_train)\r\n",
    "plt.savefig(\"fig-8.eps\")\r\n",
    "plt.show()"
   ]
  },
  {
   "cell_type": "code",
   "execution_count": 50,
   "id": "2f1e2947-8538-4e05-a7f5-846872ffc580",
   "metadata": {
    "execution": {
     "iopub.execute_input": "2022-08-22T12:54:56.155251Z",
     "iopub.status.busy": "2022-08-22T12:54:56.154737Z",
     "iopub.status.idle": "2022-08-22T12:54:56.521988Z",
     "shell.execute_reply": "2022-08-22T12:54:56.521086Z",
     "shell.execute_reply.started": "2022-08-22T12:54:56.155217Z"
    },
    "scrolled": true,
    "tags": []
   },
   "outputs": [
    {
     "data": {
      "image/png": "[encoded data removed]",
      "text/plain": [
       "<Figure size 432x288 with 1 Axes>"
      ]
     },
     "metadata": {
      "needs_background": "light"
     },
     "output_type": "display_data"
    }
   ],
   "source": [
    "sns.countplot(x=\"hour_of_the_day\", data=df_train)\r\n",
    "plt.savefig(\"fig-9.eps\")\r\n",
    "plt.show()"
   ]
  },
  {
   "cell_type": "code",
   "execution_count": 51,
   "id": "702e9f6a-52d6-4091-b9be-eb828310ad44",
   "metadata": {
    "execution": {
     "iopub.execute_input": "2022-08-22T12:55:23.938501Z",
     "iopub.status.busy": "2022-08-22T12:55:23.937548Z",
     "iopub.status.idle": "2022-08-22T12:55:24.151845Z",
     "shell.execute_reply": "2022-08-22T12:55:24.151023Z",
     "shell.execute_reply.started": "2022-08-22T12:55:23.938466Z"
    },
    "scrolled": true,
    "tags": []
   },
   "outputs": [
    {
     "data": {
      "image/png": "[encoded data removed]",
      "text/plain": [
       "<Figure size 432x288 with 1 Axes>"
      ]
     },
     "metadata": {
      "needs_background": "light"
     },
     "output_type": "display_data"
    }
   ],
   "source": [
    "sns.countplot(x=\"month\", data=df_train)\r\n",
    "plt.savefig(\"fig-10.eps\")\r\n",
    "plt.show()"
   ]
  },
  {
   "cell_type": "markdown",
   "id": "20637fbc-2569-4302-9177-52af2479508b",
   "metadata": {},
   "source": [
    "# 建模"
   ]
  },
  {
   "cell_type": "code",
   "execution_count": 52,
   "id": "7d8e768a-790d-478e-89f2-3c1091b18187",
   "metadata": {
    "execution": {
     "iopub.execute_input": "2022-08-22T12:55:57.089004Z",
     "iopub.status.busy": "2022-08-22T12:55:57.088051Z",
     "iopub.status.idle": "2022-08-22T12:55:57.151312Z",
     "shell.execute_reply": "2022-08-22T12:55:57.150450Z",
     "shell.execute_reply.started": "2022-08-22T12:55:57.088969Z"
    },
    "scrolled": true,
    "tags": []
   },
   "outputs": [
    {
     "data": {
      "text/html": [
       "<div>\n",
       "<style scoped>\n",
       "    .dataframe tbody tr th:only-of-type {\n",
       "        vertical-align: middle;\n",
       "    }\n",
       "\n",
       "    .dataframe tbody tr th {\n",
       "        vertical-align: top;\n",
       "    }\n",
       "\n",
       "    .dataframe thead th {\n",
       "        text-align: right;\n",
       "    }\n",
       "</style>\n",
       "<table border=\"1\" class=\"dataframe\">\n",
       "  <thead>\n",
       "    <tr style=\"text-align: right;\">\n",
       "      <th></th>\n",
       "      <th>vendor_id</th>\n",
       "      <th>passenger_count</th>\n",
       "      <th>store_and_fwd_flag</th>\n",
       "      <th>day_of_week</th>\n",
       "      <th>hour_of_the_day</th>\n",
       "      <th>month</th>\n",
       "      <th>distance</th>\n",
       "    </tr>\n",
       "  </thead>\n",
       "  <tbody>\n",
       "    <tr>\n",
       "      <th>0</th>\n",
       "      <td>2</td>\n",
       "      <td>1</td>\n",
       "      <td>0</td>\n",
       "      <td>1</td>\n",
       "      <td>17</td>\n",
       "      <td>3</td>\n",
       "      <td>1.498521</td>\n",
       "    </tr>\n",
       "    <tr>\n",
       "      <th>1</th>\n",
       "      <td>1</td>\n",
       "      <td>1</td>\n",
       "      <td>0</td>\n",
       "      <td>7</td>\n",
       "      <td>0</td>\n",
       "      <td>6</td>\n",
       "      <td>1.805507</td>\n",
       "    </tr>\n",
       "    <tr>\n",
       "      <th>2</th>\n",
       "      <td>2</td>\n",
       "      <td>1</td>\n",
       "      <td>0</td>\n",
       "      <td>2</td>\n",
       "      <td>11</td>\n",
       "      <td>1</td>\n",
       "      <td>6.385098</td>\n",
       "    </tr>\n",
       "    <tr>\n",
       "      <th>3</th>\n",
       "      <td>2</td>\n",
       "      <td>1</td>\n",
       "      <td>0</td>\n",
       "      <td>3</td>\n",
       "      <td>19</td>\n",
       "      <td>4</td>\n",
       "      <td>1.485498</td>\n",
       "    </tr>\n",
       "    <tr>\n",
       "      <th>4</th>\n",
       "      <td>2</td>\n",
       "      <td>1</td>\n",
       "      <td>0</td>\n",
       "      <td>6</td>\n",
       "      <td>13</td>\n",
       "      <td>3</td>\n",
       "      <td>1.188588</td>\n",
       "    </tr>\n",
       "    <tr>\n",
       "      <th>...</th>\n",
       "      <td>...</td>\n",
       "      <td>...</td>\n",
       "      <td>...</td>\n",
       "      <td>...</td>\n",
       "      <td>...</td>\n",
       "      <td>...</td>\n",
       "      <td>...</td>\n",
       "    </tr>\n",
       "    <tr>\n",
       "      <th>1458639</th>\n",
       "      <td>2</td>\n",
       "      <td>4</td>\n",
       "      <td>0</td>\n",
       "      <td>5</td>\n",
       "      <td>13</td>\n",
       "      <td>4</td>\n",
       "      <td>1.225080</td>\n",
       "    </tr>\n",
       "    <tr>\n",
       "      <th>1458640</th>\n",
       "      <td>1</td>\n",
       "      <td>1</td>\n",
       "      <td>0</td>\n",
       "      <td>7</td>\n",
       "      <td>7</td>\n",
       "      <td>1</td>\n",
       "      <td>6.049836</td>\n",
       "    </tr>\n",
       "    <tr>\n",
       "      <th>1458641</th>\n",
       "      <td>2</td>\n",
       "      <td>1</td>\n",
       "      <td>0</td>\n",
       "      <td>5</td>\n",
       "      <td>6</td>\n",
       "      <td>4</td>\n",
       "      <td>7.824606</td>\n",
       "    </tr>\n",
       "    <tr>\n",
       "      <th>1458642</th>\n",
       "      <td>1</td>\n",
       "      <td>1</td>\n",
       "      <td>0</td>\n",
       "      <td>2</td>\n",
       "      <td>15</td>\n",
       "      <td>1</td>\n",
       "      <td>1.092564</td>\n",
       "    </tr>\n",
       "    <tr>\n",
       "      <th>1458643</th>\n",
       "      <td>1</td>\n",
       "      <td>1</td>\n",
       "      <td>0</td>\n",
       "      <td>2</td>\n",
       "      <td>14</td>\n",
       "      <td>4</td>\n",
       "      <td>1.134042</td>\n",
       "    </tr>\n",
       "  </tbody>\n",
       "</table>\n",
       "<p>1458584 rows × 7 columns</p>\n",
       "</div>"
      ],
      "text/plain": [
       "         vendor_id  passenger_count  store_and_fwd_flag  day_of_week  \\\n",
       "0                2                1                   0            1   \n",
       "1                1                1                   0            7   \n",
       "2                2                1                   0            2   \n",
       "3                2                1                   0            3   \n",
       "4                2                1                   0            6   \n",
       "...            ...              ...                 ...          ...   \n",
       "1458639          2                4                   0            5   \n",
       "1458640          1                1                   0            7   \n",
       "1458641          2                1                   0            5   \n",
       "1458642          1                1                   0            2   \n",
       "1458643          1                1                   0            2   \n",
       "\n",
       "         hour_of_the_day  month  distance  \n",
       "0                     17      3  1.498521  \n",
       "1                      0      6  1.805507  \n",
       "2                     11      1  6.385098  \n",
       "3                     19      4  1.485498  \n",
       "4                     13      3  1.188588  \n",
       "...                  ...    ...       ...  \n",
       "1458639               13      4  1.225080  \n",
       "1458640                7      1  6.049836  \n",
       "1458641                6      4  7.824606  \n",
       "1458642               15      1  1.092564  \n",
       "1458643               14      4  1.134042  \n",
       "\n",
       "[1458584 rows x 7 columns]"
      ]
     },
     "execution_count": 52,
     "metadata": {},
     "output_type": "execute_result"
    }
   ],
   "source": [
    "X=df_train[['vendor_id','passenger_count','store_and_fwd_flag','day_of_week','hour_of_the_day','month','distance']]\n",
    "X"
   ]
  },
  {
   "cell_type": "code",
   "execution_count": 53,
   "id": "272e9026-408d-4cf8-9c7d-21815557457d",
   "metadata": {
    "execution": {
     "iopub.execute_input": "2022-08-22T12:55:59.816101Z",
     "iopub.status.busy": "2022-08-22T12:55:59.815188Z",
     "iopub.status.idle": "2022-08-22T12:55:59.828468Z",
     "shell.execute_reply": "2022-08-22T12:55:59.827709Z",
     "shell.execute_reply.started": "2022-08-22T12:55:59.816071Z"
    },
    "scrolled": true,
    "tags": []
   },
   "outputs": [
    {
     "data": {
      "text/html": [
       "<div>\n",
       "<style scoped>\n",
       "    .dataframe tbody tr th:only-of-type {\n",
       "        vertical-align: middle;\n",
       "    }\n",
       "\n",
       "    .dataframe tbody tr th {\n",
       "        vertical-align: top;\n",
       "    }\n",
       "\n",
       "    .dataframe thead th {\n",
       "        text-align: right;\n",
       "    }\n",
       "</style>\n",
       "<table border=\"1\" class=\"dataframe\">\n",
       "  <thead>\n",
       "    <tr style=\"text-align: right;\">\n",
       "      <th></th>\n",
       "      <th>trip_duration</th>\n",
       "    </tr>\n",
       "  </thead>\n",
       "  <tbody>\n",
       "    <tr>\n",
       "      <th>0</th>\n",
       "      <td>6.120297</td>\n",
       "    </tr>\n",
       "    <tr>\n",
       "      <th>1</th>\n",
       "      <td>6.496775</td>\n",
       "    </tr>\n",
       "    <tr>\n",
       "      <th>2</th>\n",
       "      <td>7.661056</td>\n",
       "    </tr>\n",
       "    <tr>\n",
       "      <th>3</th>\n",
       "      <td>6.061457</td>\n",
       "    </tr>\n",
       "    <tr>\n",
       "      <th>4</th>\n",
       "      <td>6.075346</td>\n",
       "    </tr>\n",
       "    <tr>\n",
       "      <th>...</th>\n",
       "      <td>...</td>\n",
       "    </tr>\n",
       "    <tr>\n",
       "      <th>1458639</th>\n",
       "      <td>6.656727</td>\n",
       "    </tr>\n",
       "    <tr>\n",
       "      <th>1458640</th>\n",
       "      <td>6.484635</td>\n",
       "    </tr>\n",
       "    <tr>\n",
       "      <th>1458641</th>\n",
       "      <td>6.638568</td>\n",
       "    </tr>\n",
       "    <tr>\n",
       "      <th>1458642</th>\n",
       "      <td>5.921578</td>\n",
       "    </tr>\n",
       "    <tr>\n",
       "      <th>1458643</th>\n",
       "      <td>5.288267</td>\n",
       "    </tr>\n",
       "  </tbody>\n",
       "</table>\n",
       "<p>1458584 rows × 1 columns</p>\n",
       "</div>"
      ],
      "text/plain": [
       "         trip_duration\n",
       "0             6.120297\n",
       "1             6.496775\n",
       "2             7.661056\n",
       "3             6.061457\n",
       "4             6.075346\n",
       "...                ...\n",
       "1458639       6.656727\n",
       "1458640       6.484635\n",
       "1458641       6.638568\n",
       "1458642       5.921578\n",
       "1458643       5.288267\n",
       "\n",
       "[1458584 rows x 1 columns]"
      ]
     },
     "execution_count": 53,
     "metadata": {},
     "output_type": "execute_result"
    }
   ],
   "source": [
    "y=df_train[['trip_duration']]\n",
    "y"
   ]
  },
  {
   "cell_type": "code",
   "execution_count": 54,
   "id": "6a77892e-632b-45c6-be32-0ed87112987c",
   "metadata": {
    "execution": {
     "iopub.execute_input": "2022-08-22T12:56:01.871648Z",
     "iopub.status.busy": "2022-08-22T12:56:01.870785Z",
     "iopub.status.idle": "2022-08-22T12:56:02.223215Z",
     "shell.execute_reply": "2022-08-22T12:56:02.222218Z",
     "shell.execute_reply.started": "2022-08-22T12:56:01.871614Z"
    },
    "scrolled": true,
    "tags": []
   },
   "outputs": [],
   "source": [
    "x_train, x_test, y_train, y_test = train_test_split(X, y, test_size=0.3)"
   ]
  },
  {
   "cell_type": "markdown",
   "id": "9f12263a-1c5b-4f66-b8db-b717c127fe0d",
   "metadata": {},
   "source": [
    "#  LGBMRegressor"
   ]
  },
  {
   "cell_type": "code",
   "execution_count": 55,
   "id": "0dcc1df1-248f-42ae-a3e2-55979caf9ffb",
   "metadata": {
    "execution": {
     "iopub.execute_input": "2022-08-22T12:56:04.085208Z",
     "iopub.status.busy": "2022-08-22T12:56:04.084194Z",
     "iopub.status.idle": "2022-08-22T13:09:39.362389Z",
     "shell.execute_reply": "2022-08-22T13:09:39.360447Z",
     "shell.execute_reply.started": "2022-08-22T12:56:04.085173Z"
    },
    "scrolled": true,
    "tags": []
   },
   "outputs": [
    {
     "ename": "KeyboardInterrupt",
     "evalue": "",
     "output_type": "error",
     "traceback": [
      "\u001b[0;31m---------------------------------------------------------------------------\u001b[0m",
      "\u001b[0;31mKeyboardInterrupt\u001b[0m                         Traceback (most recent call last)",
      "\u001b[0;32m/tmp/ipykernel_1030/366185484.py\u001b[0m in \u001b[0;36m<module>\u001b[0;34m\u001b[0m\n\u001b[1;32m      1\u001b[0m \u001b[0;31m#NYCity data: LGBMRegressor\u001b[0m\u001b[0;34m\u001b[0m\u001b[0;34m\u001b[0m\u001b[0;34m\u001b[0m\u001b[0m\n\u001b[1;32m      2\u001b[0m \u001b[0mm\u001b[0m \u001b[0;34m=\u001b[0m \u001b[0mLGBMRegressor\u001b[0m\u001b[0;34m(\u001b[0m\u001b[0mn_estimators\u001b[0m\u001b[0;34m=\u001b[0m\u001b[0;36m100\u001b[0m\u001b[0;34m)\u001b[0m  \u001b[0;31m#n_estimators (int, optional (default=100)) – Number of boosted trees to fit.\u001b[0m\u001b[0;34m\u001b[0m\u001b[0;34m\u001b[0m\u001b[0m\n\u001b[0;32m----> 3\u001b[0;31m \u001b[0mm\u001b[0m\u001b[0;34m.\u001b[0m\u001b[0mfit\u001b[0m\u001b[0;34m(\u001b[0m\u001b[0mx_train\u001b[0m\u001b[0;34m,\u001b[0m\u001b[0my_train\u001b[0m\u001b[0;34m)\u001b[0m\u001b[0;34m\u001b[0m\u001b[0;34m\u001b[0m\u001b[0m\n\u001b[0m\u001b[1;32m      4\u001b[0m \u001b[0mprint\u001b[0m\u001b[0;34m(\u001b[0m\u001b[0mm\u001b[0m\u001b[0;34m.\u001b[0m\u001b[0mscore\u001b[0m\u001b[0;34m(\u001b[0m\u001b[0mx_train\u001b[0m\u001b[0;34m,\u001b[0m\u001b[0my_train\u001b[0m\u001b[0;34m)\u001b[0m\u001b[0;34m)\u001b[0m \u001b[0;31m#m score in this model is r2 score\u001b[0m\u001b[0;34m\u001b[0m\u001b[0;34m\u001b[0m\u001b[0m\n",
      "\u001b[0;32m/opt/conda/envs/python35-paddle120-env/lib/python3.7/site-packages/lightgbm/sklearn.py\u001b[0m in \u001b[0;36mfit\u001b[0;34m(self, X, y, sample_weight, init_score, eval_set, eval_names, eval_sample_weight, eval_init_score, eval_metric, early_stopping_rounds, verbose, feature_name, categorical_feature, callbacks, init_model)\u001b[0m\n\u001b[1;32m    777\u001b[0m                                        \u001b[0mverbose\u001b[0m\u001b[0;34m=\u001b[0m\u001b[0mverbose\u001b[0m\u001b[0;34m,\u001b[0m \u001b[0mfeature_name\u001b[0m\u001b[0;34m=\u001b[0m\u001b[0mfeature_name\u001b[0m\u001b[0;34m,\u001b[0m\u001b[0;34m\u001b[0m\u001b[0;34m\u001b[0m\u001b[0m\n\u001b[1;32m    778\u001b[0m                                        \u001b[0mcategorical_feature\u001b[0m\u001b[0;34m=\u001b[0m\u001b[0mcategorical_feature\u001b[0m\u001b[0;34m,\u001b[0m\u001b[0;34m\u001b[0m\u001b[0;34m\u001b[0m\u001b[0m\n\u001b[0;32m--> 779\u001b[0;31m                                        callbacks=callbacks, init_model=init_model)\n\u001b[0m\u001b[1;32m    780\u001b[0m         \u001b[0;32mreturn\u001b[0m \u001b[0mself\u001b[0m\u001b[0;34m\u001b[0m\u001b[0;34m\u001b[0m\u001b[0m\n\u001b[1;32m    781\u001b[0m \u001b[0;34m\u001b[0m\u001b[0m\n",
      "\u001b[0;32m/opt/conda/envs/python35-paddle120-env/lib/python3.7/site-packages/lightgbm/sklearn.py\u001b[0m in \u001b[0;36mfit\u001b[0;34m(self, X, y, sample_weight, init_score, group, eval_set, eval_names, eval_sample_weight, eval_class_weight, eval_init_score, eval_group, eval_metric, early_stopping_rounds, verbose, feature_name, categorical_feature, callbacks, init_model)\u001b[0m\n\u001b[1;32m    615\u001b[0m                               \u001b[0mevals_result\u001b[0m\u001b[0;34m=\u001b[0m\u001b[0mevals_result\u001b[0m\u001b[0;34m,\u001b[0m \u001b[0mfobj\u001b[0m\u001b[0;34m=\u001b[0m\u001b[0mself\u001b[0m\u001b[0;34m.\u001b[0m\u001b[0m_fobj\u001b[0m\u001b[0;34m,\u001b[0m \u001b[0mfeval\u001b[0m\u001b[0;34m=\u001b[0m\u001b[0meval_metrics_callable\u001b[0m\u001b[0;34m,\u001b[0m\u001b[0;34m\u001b[0m\u001b[0;34m\u001b[0m\u001b[0m\n\u001b[1;32m    616\u001b[0m                               \u001b[0mverbose_eval\u001b[0m\u001b[0;34m=\u001b[0m\u001b[0mverbose\u001b[0m\u001b[0;34m,\u001b[0m \u001b[0mfeature_name\u001b[0m\u001b[0;34m=\u001b[0m\u001b[0mfeature_name\u001b[0m\u001b[0;34m,\u001b[0m\u001b[0;34m\u001b[0m\u001b[0;34m\u001b[0m\u001b[0m\n\u001b[0;32m--> 617\u001b[0;31m                               callbacks=callbacks, init_model=init_model)\n\u001b[0m\u001b[1;32m    618\u001b[0m \u001b[0;34m\u001b[0m\u001b[0m\n\u001b[1;32m    619\u001b[0m         \u001b[0;32mif\u001b[0m \u001b[0mevals_result\u001b[0m\u001b[0;34m:\u001b[0m\u001b[0;34m\u001b[0m\u001b[0;34m\u001b[0m\u001b[0m\n",
      "\u001b[0;32m/opt/conda/envs/python35-paddle120-env/lib/python3.7/site-packages/lightgbm/engine.py\u001b[0m in \u001b[0;36mtrain\u001b[0;34m(params, train_set, num_boost_round, valid_sets, valid_names, fobj, feval, init_model, feature_name, categorical_feature, early_stopping_rounds, evals_result, verbose_eval, learning_rates, keep_training_booster, callbacks)\u001b[0m\n\u001b[1;32m    250\u001b[0m                                     evaluation_result_list=None))\n\u001b[1;32m    251\u001b[0m \u001b[0;34m\u001b[0m\u001b[0m\n\u001b[0;32m--> 252\u001b[0;31m         \u001b[0mbooster\u001b[0m\u001b[0;34m.\u001b[0m\u001b[0mupdate\u001b[0m\u001b[0;34m(\u001b[0m\u001b[0mfobj\u001b[0m\u001b[0;34m=\u001b[0m\u001b[0mfobj\u001b[0m\u001b[0;34m)\u001b[0m\u001b[0;34m\u001b[0m\u001b[0;34m\u001b[0m\u001b[0m\n\u001b[0m\u001b[1;32m    253\u001b[0m \u001b[0;34m\u001b[0m\u001b[0m\n\u001b[1;32m    254\u001b[0m         \u001b[0mevaluation_result_list\u001b[0m \u001b[0;34m=\u001b[0m \u001b[0;34m[\u001b[0m\u001b[0;34m]\u001b[0m\u001b[0;34m\u001b[0m\u001b[0;34m\u001b[0m\u001b[0m\n",
      "\u001b[0;32m/opt/conda/envs/python35-paddle120-env/lib/python3.7/site-packages/lightgbm/basic.py\u001b[0m in \u001b[0;36mupdate\u001b[0;34m(self, train_set, fobj)\u001b[0m\n\u001b[1;32m   2458\u001b[0m             _safe_call(_LIB.LGBM_BoosterUpdateOneIter(\n\u001b[1;32m   2459\u001b[0m                 \u001b[0mself\u001b[0m\u001b[0;34m.\u001b[0m\u001b[0mhandle\u001b[0m\u001b[0;34m,\u001b[0m\u001b[0;34m\u001b[0m\u001b[0;34m\u001b[0m\u001b[0m\n\u001b[0;32m-> 2460\u001b[0;31m                 ctypes.byref(is_finished)))\n\u001b[0m\u001b[1;32m   2461\u001b[0m             \u001b[0mself\u001b[0m\u001b[0;34m.\u001b[0m\u001b[0m__is_predicted_cur_iter\u001b[0m \u001b[0;34m=\u001b[0m \u001b[0;34m[\u001b[0m\u001b[0;32mFalse\u001b[0m \u001b[0;32mfor\u001b[0m \u001b[0m_\u001b[0m \u001b[0;32min\u001b[0m \u001b[0mrange_\u001b[0m\u001b[0;34m(\u001b[0m\u001b[0mself\u001b[0m\u001b[0;34m.\u001b[0m\u001b[0m__num_dataset\u001b[0m\u001b[0;34m)\u001b[0m\u001b[0;34m]\u001b[0m\u001b[0;34m\u001b[0m\u001b[0;34m\u001b[0m\u001b[0m\n\u001b[1;32m   2462\u001b[0m             \u001b[0;32mreturn\u001b[0m \u001b[0mis_finished\u001b[0m\u001b[0;34m.\u001b[0m\u001b[0mvalue\u001b[0m \u001b[0;34m==\u001b[0m \u001b[0;36m1\u001b[0m\u001b[0;34m\u001b[0m\u001b[0;34m\u001b[0m\u001b[0m\n",
      "\u001b[0;31mKeyboardInterrupt\u001b[0m: "
     ]
    }
   ],
   "source": [
    "#NYCity data: LGBMRegressor\n",
    "m = LGBMRegressor(n_estimators=100)  #n_estimators (int, optional (default=100)) – Number of boosted trees to fit.\n",
    "m.fit(x_train,y_train)\n",
    "print(m.score(x_train,y_train)) #m score in this model is r2 score"
   ]
  },
  {
   "cell_type": "code",
   "execution_count": null,
   "id": "db2aa5e9-4f14-4720-8abd-7b4bf95cab1d",
   "metadata": {
    "execution": {
     "iopub.status.busy": "2022-08-22T13:09:39.365281Z",
     "iopub.status.idle": "2022-08-22T13:09:39.365588Z",
     "shell.execute_reply": "2022-08-22T13:09:39.365445Z",
     "shell.execute_reply.started": "2022-08-22T13:09:39.365425Z"
    },
    "scrolled": true,
    "tags": []
   },
   "outputs": [],
   "source": [
    "#NYCity data: r2_score/ MSE --> This model should be compared to Google Distance Matrix API\n",
    "y_pred = m.predict(x_test)\n",
    "# print(m.score(x_test,y_test))\n",
    "r2=r2_score(y_test, y_pred)\n",
    "mse = mean_squared_error(y_test, y_pred)\n",
    "\n",
    "mae = mean_absolute_error(y_test,y_pred)\n",
    "\n",
    "RMSE = math.sqrt(mse)\n",
    "print(\"R2 score: %.2f\" % r2)\n",
    "print(\"MSE: %.2f\" % mse)\n",
    "print(\"MAE: %.2f\" % mae)\n",
    "print(\"RMSE: %.2f\" % RMSE)"
   ]
  },
  {
   "cell_type": "markdown",
   "id": "c4bf2192-813e-4a0e-8f7a-44f1ed552eb6",
   "metadata": {},
   "source": [
    "# 线性回归"
   ]
  },
  {
   "cell_type": "markdown",
   "id": "44b1ba04-6e48-4e55-bd36-8ee4bb3e92fe",
   "metadata": {},
   "source": [
    "\n"
   ]
  },
  {
   "cell_type": "code",
   "execution_count": null,
   "id": "87f2582c-ede4-40ff-a302-7476da3f8f26",
   "metadata": {
    "execution": {
     "iopub.status.busy": "2022-08-22T13:09:39.366701Z",
     "iopub.status.idle": "2022-08-22T13:09:39.366991Z",
     "shell.execute_reply": "2022-08-22T13:09:39.366850Z",
     "shell.execute_reply.started": "2022-08-22T13:09:39.366838Z"
    },
    "scrolled": true,
    "tags": []
   },
   "outputs": [],
   "source": [
    "from sklearn.linear_model import LinearRegression\n",
    "lr_model = LinearRegression()\n",
    "lr_model.fit(x_train,y_train)\n",
    "print(lr_model.score(x_train,y_train)) #m score in this model is r2 score\n",
    "\n",
    "#NYCity data: r2_score/ MSE --> This model should be compared to Google Distance Matrix API\n",
    "y_pred = lr_model.predict(x_test)\n",
    "\n",
    "r2=r2_score(y_test, y_pred)\n",
    "\n",
    "mse = mean_squared_error(y_test, y_pred)\n",
    "\n",
    "mae = mean_absolute_error(y_test,y_pred)\n",
    "\n",
    "RMSE = math.sqrt(mse)\n",
    "print(\"R2 score: %.2f\" % r2)\n",
    "print(\"MSE: %.2f\" % mse)\n",
    "print(\"MAE: %.2f\" % mae)\n",
    "print(\"RMSE: %.2f\" % RMSE)"
   ]
  },
  {
   "cell_type": "code",
   "execution_count": null,
   "id": "767c423e-e66c-437e-993f-0b56da2bc4df",
   "metadata": {
    "execution": {
     "iopub.status.busy": "2022-08-22T13:09:39.367979Z",
     "iopub.status.idle": "2022-08-22T13:09:39.368257Z",
     "shell.execute_reply": "2022-08-22T13:09:39.368131Z",
     "shell.execute_reply.started": "2022-08-22T13:09:39.368119Z"
    },
    "scrolled": true,
    "tags": []
   },
   "outputs": [],
   "source": [
    "#Linear Regression\n",
    "from sklearn import linear_model\n",
    "model_LinearRegression = linear_model.LinearRegression()\n",
    "\n",
    "\n",
    "#Decision Tree Regressor\n",
    "from sklearn import tree\n",
    "model_DecisionTreeRegressor = tree.DecisionTreeRegressor()\n",
    "\n",
    "#SVM Regressor\n",
    "from sklearn import svm\n",
    "model_SVR = svm.SVR()\n",
    "#K Neighbors Regressor\n",
    "from sklearn import neighbors\n",
    "model_KNeighborsRegressor = neighbors.KNeighborsRegressor()\n",
    "#Random Forest Regressor\n",
    "from sklearn import ensemble\n",
    "model_RandomForestRegressor = ensemble.RandomForestRegressor(n_estimators=20)\n",
    "#Adaboost Regressor\n",
    "from sklearn import ensemble\n",
    "model_AdaBoostRegressor = ensemble.AdaBoostRegressor(n_estimators=50)\n",
    "#Gradient Boosting Random Forest Regressor\n",
    "from sklearn import ensemble\n",
    "model_GradientBoostingRegressor = ensemble.GradientBoostingRegressor(n_estimators=100)\n",
    "#bagging Regressor\n",
    "from sklearn.ensemble import BaggingRegressor\n",
    "model_BaggingRegressor = BaggingRegressor()\n",
    "#ExtraTree Regressor\n",
    "from sklearn.tree import ExtraTreeRegressor\n",
    "model_ExtraTreeRegressor = ExtraTreeRegressor()"
   ]
  },
  {
   "cell_type": "markdown",
   "id": "db0fdca5-90f6-4615-895b-66ae93bc3251",
   "metadata": {},
   "source": [
    "# Decision Tree Regressor"
   ]
  },
  {
   "cell_type": "code",
   "execution_count": null,
   "id": "82b96746-69f5-4d05-8efa-f73bcd469c9e",
   "metadata": {
    "execution": {
     "iopub.status.busy": "2022-08-22T13:09:39.370092Z",
     "iopub.status.idle": "2022-08-22T13:09:39.370475Z",
     "shell.execute_reply": "2022-08-22T13:09:39.370318Z",
     "shell.execute_reply.started": "2022-08-22T13:09:39.370304Z"
    },
    "scrolled": true,
    "tags": []
   },
   "outputs": [],
   "source": [
    "#Decision Tree Regressor\n",
    "from sklearn import tree\n",
    "model_DecisionTreeRegressor = tree.DecisionTreeRegressor()\n",
    "model_DecisionTreeRegressor.fit(x_train,y_train)\n",
    "print(model_DecisionTreeRegressor.score(x_train,y_train)) #m score in this model is r2 score\n",
    "\n",
    "#NYCity data: r2_score/ MSE --> This model should be compared to Google Distance Matrix API\n",
    "y_pred = model_DecisionTreeRegressor.predict(x_test)\n",
    "\n",
    "r2=r2_score(y_test, y_pred)\n",
    "\n",
    "mse = mean_squared_error(y_test, y_pred)\n",
    "\n",
    "mae = mean_absolute_error(y_test,y_pred)\n",
    "\n",
    "RMSE = math.sqrt(mse)\n",
    "print(\"R2 score: %.2f\" % r2)\n",
    "print(\"MSE: %.2f\" % mse)\n",
    "print(\"MAE: %.2f\" % mae)\n",
    "print(\"RMSE: %.2f\" % RMSE)"
   ]
  },
  {
   "cell_type": "markdown",
   "id": "bd159f14-edc6-45e6-bf41-93860c9a603c",
   "metadata": {},
   "source": [
    "# Data visualization and knowledge representation tools are used to represent the mined data"
   ]
  },
  {
   "cell_type": "code",
   "execution_count": null,
   "id": "51242f20-e233-43cc-864a-bc79410b6344",
   "metadata": {
    "execution": {
     "iopub.status.busy": "2022-08-22T13:09:39.371459Z",
     "iopub.status.idle": "2022-08-22T13:09:39.371738Z",
     "shell.execute_reply": "2022-08-22T13:09:39.371609Z",
     "shell.execute_reply.started": "2022-08-22T13:09:39.371596Z"
    },
    "scrolled": true,
    "tags": []
   },
   "outputs": [],
   "source": [
    "y_test"
   ]
  },
  {
   "cell_type": "code",
   "execution_count": null,
   "id": "a1cddbf2-a008-420b-a105-595cdc018312",
   "metadata": {
    "execution": {
     "iopub.status.busy": "2022-08-22T13:09:39.372851Z",
     "iopub.status.idle": "2022-08-22T13:09:39.373135Z",
     "shell.execute_reply": "2022-08-22T13:09:39.373001Z",
     "shell.execute_reply.started": "2022-08-22T13:09:39.372989Z"
    },
    "scrolled": true,
    "tags": []
   },
   "outputs": [],
   "source": [
    "y_pred"
   ]
  },
  {
   "cell_type": "code",
   "execution_count": null,
   "id": "8508be1a-845e-4bd1-b51e-d8905a474587",
   "metadata": {
    "execution": {
     "iopub.status.busy": "2022-08-22T13:09:39.374177Z",
     "iopub.status.idle": "2022-08-22T13:09:39.374480Z",
     "shell.execute_reply": "2022-08-22T13:09:39.374343Z",
     "shell.execute_reply.started": "2022-08-22T13:09:39.374331Z"
    },
    "scrolled": true,
    "tags": []
   },
   "outputs": [],
   "source": [
    "x_ax = range(len(y_test))\n",
    "plt.figure(figsize=(20, 12))\n",
    "plt.plot(x_ax, y_test, label=\"original\")\n",
    "plt.plot(x_ax, y_pred, label=\"predicted\")\n",
    "plt.title(\"NY dataset test and predicted data\")\n",
    "plt.xlabel('X')\n",
    "plt.ylabel('time')\n",
    "plt.grid(True)\n",
    "plt.show() "
   ]
  }
 ],
 "metadata": {
  "kernelspec": {
   "display_name": "Python 3",
   "language": "python",
   "name": "py35-paddle1.2.0"
  },
  "language_info": {
   "codemirror_mode": {
    "name": "ipython",
    "version": 3
   },
   "file_extension": ".py",
   "mimetype": "text/x-python",
   "name": "python",
   "nbconvert_exporter": "python",
   "pygments_lexer": "ipython3",
   "version": "3.7.4"
  }
 },
 "nbformat": 4,
 "nbformat_minor": 5
}
